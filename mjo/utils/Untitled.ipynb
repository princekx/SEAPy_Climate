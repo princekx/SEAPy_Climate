{
 "cells": [
  {
   "cell_type": "code",
   "execution_count": 5,
   "metadata": {},
   "outputs": [],
   "source": [
    "import numpy as np\n",
    "import iris\n",
    "import datetime"
   ]
  },
  {
   "cell_type": "code",
   "execution_count": 3,
   "metadata": {},
   "outputs": [],
   "source": [
    "cube = iris.load_cube('/project/MJO_GCSS/hadgem3/data/obs/obs_PRECIP.pp.nc')"
   ]
  },
  {
   "cell_type": "code",
   "execution_count": 14,
   "metadata": {},
   "outputs": [],
   "source": [
    "time_coord = cube.coord('time')"
   ]
  },
  {
   "cell_type": "code",
   "execution_count": 43,
   "metadata": {},
   "outputs": [],
   "source": [
    "cube_dates = [int(time_coord.units.num2date(tp).strftime(\"%Y%m%d\")) for tp in time_coord.points]"
   ]
  },
  {
   "cell_type": "code",
   "execution_count": 44,
   "metadata": {},
   "outputs": [],
   "source": [
    "C = np.loadtxt(\"/project/MJO_GCSS/hadgem3/data/MJOPy_output/obs/RMMs_obs.txt\")"
   ]
  },
  {
   "cell_type": "code",
   "execution_count": 51,
   "metadata": {},
   "outputs": [],
   "source": [
    "year = C[:, 0]\n",
    "month = C[:, 1]\n",
    "day = C[:, 2]\n",
    "pc1 = C[:, 3]\n",
    "pc2 = C[:, 4]\n",
    "pha = C[:, 5]\n",
    "amp = C[:, 6]\n",
    "rmm_dates = [int(year[i]*10000+month[i]*100+day[i]) for i in range(len(year))]"
   ]
  },
  {
   "cell_type": "code",
   "execution_count": 53,
   "metadata": {},
   "outputs": [],
   "source": [
    "phase = 1\n",
    "summer_mjo_dates = [rmm_dates[i] for i in range(len(pha))\n",
    "                            if amp[i] >= 1.0 and pha[i] == phase and (month[i] >= 5 and month[i] <= 10)]"
   ]
  },
  {
   "cell_type": "code",
   "execution_count": 55,
   "metadata": {},
   "outputs": [
    {
     "data": {
      "text/plain": [
       "300"
      ]
     },
     "execution_count": 55,
     "metadata": {},
     "output_type": "execute_result"
    }
   ],
   "source": [
    "len(summer_mjo_dates)"
   ]
  },
  {
   "cell_type": "code",
   "execution_count": 57,
   "metadata": {},
   "outputs": [],
   "source": [
    "comp_dates = set(summer_mjo_dates) & set(cube_dates)"
   ]
  },
  {
   "cell_type": "code",
   "execution_count": 60,
   "metadata": {},
   "outputs": [
    {
     "data": {
      "text/plain": [
       "{19980501,\n",
       " 19980502,\n",
       " 19980503,\n",
       " 19980504,\n",
       " 19980505,\n",
       " 19980909,\n",
       " 19990505,\n",
       " 19990506,\n",
       " 19990507,\n",
       " 19990508,\n",
       " 19990509,\n",
       " 19990510,\n",
       " 19990621,\n",
       " 19990622,\n",
       " 19990623,\n",
       " 19990624,\n",
       " 19990625,\n",
       " 19990626,\n",
       " 19990627,\n",
       " 19990628,\n",
       " 19990629,\n",
       " 19990630,\n",
       " 19990701,\n",
       " 19990921,\n",
       " 19990922,\n",
       " 19990923,\n",
       " 19990924,\n",
       " 19990925,\n",
       " 19990926,\n",
       " 19990927,\n",
       " 19990928,\n",
       " 19990929,\n",
       " 19990930,\n",
       " 20000721,\n",
       " 20000722,\n",
       " 20000723,\n",
       " 20000724,\n",
       " 20000725,\n",
       " 20000726,\n",
       " 20000727,\n",
       " 20000728,\n",
       " 20000729,\n",
       " 20000730,\n",
       " 20000731,\n",
       " 20000801,\n",
       " 20000802,\n",
       " 20000909,\n",
       " 20000910,\n",
       " 20000911,\n",
       " 20000912,\n",
       " 20000913,\n",
       " 20000914,\n",
       " 20000915,\n",
       " 20000916,\n",
       " 20000917,\n",
       " 20000918,\n",
       " 20000919,\n",
       " 20000920,\n",
       " 20010524,\n",
       " 20010525,\n",
       " 20010526,\n",
       " 20010527,\n",
       " 20010714,\n",
       " 20010715,\n",
       " 20010716,\n",
       " 20010717,\n",
       " 20010718,\n",
       " 20010719,\n",
       " 20010720,\n",
       " 20010909,\n",
       " 20010910,\n",
       " 20010911,\n",
       " 20010912,\n",
       " 20010913,\n",
       " 20010914,\n",
       " 20010915,\n",
       " 20010916,\n",
       " 20011025,\n",
       " 20011026,\n",
       " 20011027,\n",
       " 20011028,\n",
       " 20020530,\n",
       " 20020531,\n",
       " 20020601,\n",
       " 20020602,\n",
       " 20020719,\n",
       " 20021028,\n",
       " 20021029,\n",
       " 20021030,\n",
       " 20021031,\n",
       " 20030607,\n",
       " 20030608,\n",
       " 20030609,\n",
       " 20030610,\n",
       " 20030611,\n",
       " 20030612,\n",
       " 20030613,\n",
       " 20030614,\n",
       " 20040704,\n",
       " 20040705,\n",
       " 20040706,\n",
       " 20040707,\n",
       " 20040708,\n",
       " 20040709,\n",
       " 20040710,\n",
       " 20040711,\n",
       " 20041021,\n",
       " 20041022,\n",
       " 20041023,\n",
       " 20041024,\n",
       " 20041025,\n",
       " 20050813,\n",
       " 20050814,\n",
       " 20050815,\n",
       " 20050816,\n",
       " 20050817,\n",
       " 20050818,\n",
       " 20050819,\n",
       " 20050820,\n",
       " 20050821,\n",
       " 20050822,\n",
       " 20050823,\n",
       " 20050930,\n",
       " 20051001,\n",
       " 20051002,\n",
       " 20051003,\n",
       " 20051004,\n",
       " 20051005,\n",
       " 20051006,\n",
       " 20051007,\n",
       " 20060607,\n",
       " 20060824,\n",
       " 20060825,\n",
       " 20060826,\n",
       " 20060827,\n",
       " 20060828,\n",
       " 20060829,\n",
       " 20060830,\n",
       " 20060831,\n",
       " 20061018,\n",
       " 20061019,\n",
       " 20061020,\n",
       " 20061021,\n",
       " 20061022,\n",
       " 20070526,\n",
       " 20070527,\n",
       " 20070528,\n",
       " 20070529,\n",
       " 20070530,\n",
       " 20070531,\n",
       " 20070601,\n",
       " 20070602,\n",
       " 20070603,\n",
       " 20070715,\n",
       " 20070716,\n",
       " 20070717,\n",
       " 20070718,\n",
       " 20070719,\n",
       " 20070720,\n",
       " 20070721,\n",
       " 20070825,\n",
       " 20070826,\n",
       " 20070827,\n",
       " 20071013,\n",
       " 20071014,\n",
       " 20071015,\n",
       " 20071016,\n",
       " 20071017,\n",
       " 20071018,\n",
       " 20071019,\n",
       " 20071020,\n",
       " 20080524,\n",
       " 20080525,\n",
       " 20080526,\n",
       " 20080527,\n",
       " 20080528,\n",
       " 20080704,\n",
       " 20080705,\n",
       " 20080706,\n",
       " 20080707,\n",
       " 20080708,\n",
       " 20081006,\n",
       " 20081007,\n",
       " 20081008,\n",
       " 20081009,\n",
       " 20081010,\n",
       " 20081011,\n",
       " 20081012}"
      ]
     },
     "execution_count": 60,
     "metadata": {},
     "output_type": "execute_result"
    }
   ],
   "source": [
    "comp_dates"
   ]
  },
  {
   "cell_type": "code",
   "execution_count": null,
   "metadata": {},
   "outputs": [],
   "source": []
  }
 ],
 "metadata": {
  "kernelspec": {
   "display_name": "Python 3",
   "language": "python",
   "name": "python3"
  },
  "language_info": {
   "codemirror_mode": {
    "name": "ipython",
    "version": 3
   },
   "file_extension": ".py",
   "mimetype": "text/x-python",
   "name": "python",
   "nbconvert_exporter": "python",
   "pygments_lexer": "ipython3",
   "version": "3.6.8"
  }
 },
 "nbformat": 4,
 "nbformat_minor": 2
}
