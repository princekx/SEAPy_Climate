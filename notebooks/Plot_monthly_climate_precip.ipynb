{
 "cells": [
  {
   "cell_type": "code",
   "execution_count": 56,
   "metadata": {},
   "outputs": [],
   "source": [
    "import os\n",
    "import numpy as np\n",
    "import numpy.ma as ma\n",
    "import matplotlib as mpl\n",
    "import matplotlib.pyplot as plt\n",
    "from matplotlib.colors import BoundaryNorm\n",
    "import pandas as pd\n",
    "import iris\n",
    "import iris.quickplot as qplt\n",
    "import iris.plot as iplt\n",
    "import cartopy.crs as ccrs\n",
    "import iris.analysis.calculus as calculus\n",
    "from iris.coord_categorisation import add_year, add_month_number, add_day_of_month, add_day_of_year, add_season_number\n",
    "import warnings\n",
    "warnings.filterwarnings('ignore')\n",
    "\n",
    "%matplotlib agg"
   ]
  },
  {
   "cell_type": "code",
   "execution_count": 57,
   "metadata": {},
   "outputs": [],
   "source": [
    "def return_indices_of_a(a, b):\n",
    "  b_set = set(b)\n",
    "  return [int(i) for i, v in enumerate(a) if v in b_set]"
   ]
  },
  {
   "cell_type": "code",
   "execution_count": 58,
   "metadata": {},
   "outputs": [],
   "source": [
    "def prepare_calendar(cube):\n",
    "    # Setting up the dates on data\n",
    "    if not cube.coords('year'):\n",
    "        iris.coord_categorisation.add_year(cube, 'time', name='year')\n",
    "    if not cube.coords('month_number'):\n",
    "        iris.coord_categorisation.add_month_number(cube, 'time', name='month_number')\n",
    "    if not cube.coords('day_of_month'):\n",
    "        iris.coord_categorisation.add_day_of_month(cube, 'time', name='day_of_month')\n",
    "    if not cube.coords('day_of_year'):\n",
    "        iris.coord_categorisation.add_day_of_year(cube, 'time', name='day_of_year')\n",
    "    return cube"
   ]
  },
  {
   "cell_type": "code",
   "execution_count": 67,
   "metadata": {},
   "outputs": [],
   "source": [
    "def plot_precip_monthly_means(runs):\n",
    "    precip_monthly_clim_data = []\n",
    "    for run in runs:\n",
    "        runid = run['runid']\n",
    "        data_root = os.path.join(run['data_retrieve_dir'], runid)\n",
    "        if runid=='obs':\n",
    "            precip_cube = iris.load_cube(os.path.join(data_root, 'GPM_PRECIP_SEA_24h_mean_2000_2020.nc'))\n",
    "            #precip_cube = iris.load_cube('/project/MJO_GCSS/SoutheastAsia_data/TRMM/daily/3B42_daily.1998_2012_Global.nc')\n",
    "        else:\n",
    "            precip_cube = iris.load_cube(os.path.join(data_root, runid + '_PRECIP.pp.nc'))\n",
    "            precip_cube.convert_units('kg m-2 day-1')\n",
    "        precip_cube = precip_cube.intersection(longitude=(90, 130), latitude=(-10,25))\n",
    "        precip_cube = prepare_calendar(precip_cube)\n",
    "        \n",
    "        precip_daily_climate = precip_cube.aggregated_by(['month_number'],iris.analysis.MEAN)\n",
    "        \n",
    "        precip_monthly_clim_data.append(precip_daily_climate.intersection(longitude=(95, 115), \n",
    "                                                                          latitude=(-10,15)).collapsed(('latitude', 'longitude'), \n",
    "                                                                                                       iris.analysis.MEAN))\n",
    "        \n",
    "    \n",
    "    fig = plt.figure(1, figsize=(12, 5), dpi=100)\n",
    "    for i, run in enumerate(runs):\n",
    "        plt.bar(precip_monthly_clim_data[i].coord('month_number').points+i*0.2, \n",
    "                precip_monthly_clim_data[i].data, alpha=0.6, width=0.2, label=run['label'])\n",
    "    plt.title('95-115E, 10S-15N')\n",
    "    plt.legend()\n",
    "    plt.gca().set_xticks(np.arange(1,13)+0.3)\n",
    "    plt.gca().set_xticklabels(['J','F','M','A', 'M', 'J', 'J', 'A', 'S', 'O', 'N', 'D'])\n",
    "    #plt.show()\n",
    "    plt.savefig('Precip_monthly_climate.png')\n",
    "    plt.close()"
   ]
  },
  {
   "cell_type": "code",
   "execution_count": 61,
   "metadata": {},
   "outputs": [],
   "source": [
    "def create_dates_df(cube):\n",
    "    cube = prepare_calendar(cube)\n",
    "    cube_dates_df = pd.concat([pd.DataFrame(cube.coord('year').points),\n",
    "                          pd.DataFrame(cube.coord('month_number').points), \n",
    "                          pd.DataFrame(cube.coord('day_of_month').points)], axis=1)\n",
    "    cube_dates_df.columns = ['year', 'month', 'day']\n",
    "    return cube_dates_df\n",
    "\n",
    "def precip_mean_var_season(precip_cube, season_months = [5,6,7,8, 9, 10], outfile_basename=None):\n",
    "    precip_cube_dates_df = create_dates_df(precip_cube)\n",
    "    season_df = precip_cube_dates_df.loc[(precip_cube_dates_df['month'].isin(season_months))]\n",
    "    inds = [ind for ind in season_df.index]\n",
    "    seasonal_mean = precip_cube[inds].collapsed('time', iris.analysis.MEAN)\n",
    "    seasonal_variance = precip_cube[inds].collapsed('time', iris.analysis.VARIANCE)\n",
    "    \n",
    "    if not outfile_basename is None:\n",
    "        outfile = outfile_basename+'_mean.nc'\n",
    "        iris.save(seasonal_mean, outfile)\n",
    "        print('Mean Written %s' %outfile)\n",
    "        outfile = outfile_basename+'_variance.nc'\n",
    "        iris.save(seasonal_variance, outfile)\n",
    "        print('Variance Written %s' %outfile)\n",
    "    return seasonal_mean, seasonal_variance"
   ]
  },
  {
   "cell_type": "code",
   "execution_count": 85,
   "metadata": {},
   "outputs": [
    {
     "data": {
      "text/plain": [
       "'JJA'"
      ]
     },
     "execution_count": 85,
     "metadata": {},
     "output_type": "execute_result"
    }
   ],
   "source": [
    "months_labels = ['J','F','M','A', 'M', 'J', 'J', 'A', 'S', 'O', 'N', 'D']\n",
    "season_months = [6,7,8]\n",
    "''.join([months_labels[i-1] for i in season_months])"
   ]
  },
  {
   "cell_type": "code",
   "execution_count": 62,
   "metadata": {},
   "outputs": [],
   "source": [
    "def plot_precip_winter_summer_maps(runs, filt=False):\n",
    "    for run in runs:\n",
    "        runid = run['runid']\n",
    "        print(run['label'])\n",
    "        data_root = os.path.join(run['data_retrieve_dir'], runid)\n",
    "        if runid=='obs':\n",
    "            if filt:\n",
    "                precip_cube = iris.load_cube(os.path.join(data_root, 'GPM_PRECIP_SEA_24h_mean_2000_2020_filt.nc'))\n",
    "            else:\n",
    "                precip_cube = iris.load_cube(os.path.join(data_root, 'GPM_PRECIP_SEA_24h_mean_2000_2020.nc'))\n",
    "                #precip_cube = iris.load_cube('/project/MJO_GCSS/SoutheastAsia_data/TRMM/daily/3B42_daily.1998_2012_Global.nc')\n",
    "        else:\n",
    "            if filt:\n",
    "                precip_cube = iris.load_cube(os.path.join(data_root, runid + '_PRECIP_filt.nc'))\n",
    "            else:\n",
    "                precip_cube = iris.load_cube(os.path.join(data_root, runid + '_PRECIP.pp.nc'))\n",
    "                \n",
    "            precip_cube.convert_units('kg m-2 day-1')\n",
    "        precip_cube = precip_cube.intersection(longitude=(90, 130), latitude=(-10,25))\n",
    "        precip_cube = prepare_calendar(precip_cube)\n",
    "        \n",
    "        if filt:\n",
    "            #outfile_basename = os.path.join('/project/MJO_GCSS/hadgem3/data/SEAPy_output/%s/%s_NDJFM_precipitation_flux_filt' %(runid, runid))\n",
    "            outfile_basename = os.path.join('/project/MJO_GCSS/hadgem3/data/SEAPy_output/%s/%s_DJF_precipitation_flux_filt' %(runid, runid))\n",
    "        else:\n",
    "            #outfile_basename = os.path.join('/project/MJO_GCSS/hadgem3/data/SEAPy_output/%s/%s_NDJFM_precipitation_flux' %(runid, runid))\n",
    "            outfile_basename = os.path.join('/project/MJO_GCSS/hadgem3/data/SEAPy_output/%s/%s_DJF_precipitation_flux' %(runid, runid))\n",
    "        #winter_mean, winter_var = precip_mean_var_season(precip_cube, season_months=[11,12,1,2,3], outfile_basename=outfile_basename)\n",
    "        \n",
    "        winter_mean, winter_var = precip_mean_var_season(precip_cube, season_months=[12,1,2], outfile_basename=outfile_basename)\n",
    "        \n",
    "        if filt:\n",
    "            #outfile_basename = os.path.join('/project/MJO_GCSS/hadgem3/data/SEAPy_output/%s/%s_MJJAS_precipitation_flux_filt' %(runid, runid))\n",
    "            outfile_basename = os.path.join('/project/MJO_GCSS/hadgem3/data/SEAPy_output/%s/%s_JJA_precipitation_flux_filt' %(runid, runid))\n",
    "        else:\n",
    "            #outfile_basename = os.path.join('/project/MJO_GCSS/hadgem3/data/SEAPy_output/%s/%s_MJJAS_precipitation_flux' %(runid, runid))\n",
    "            outfile_basename = os.path.join('/project/MJO_GCSS/hadgem3/data/SEAPy_output/%s/%s_JJA_precipitation_flux' %(runid, runid))\n",
    "        #summer_mean, summer_var = precip_mean_var_season(precip_cube, season_months=[5,6,7,8,9], outfile_basename=outfile_basename)\n",
    "        summer_mean, summer_var = precip_mean_var_season(precip_cube, season_months=[6,7,8], outfile_basename=outfile_basename)\n",
    "\n",
    "        fig = plt.figure(1, figsize=(12, 7), dpi=100)\n",
    "        plt.subplot(111)\n",
    "        ax = plt.axes(projection=ccrs.PlateCarree())\n",
    "        levels = np.arange(-20, 20, 2)\n",
    "        cmap = plt.get_cmap('RdBu')\n",
    "        norm = BoundaryNorm(levels, ncolors=cmap.N, clip=True)\n",
    "        cf = iplt.pcolormesh(winter_mean-summer_mean, cmap=cmap, norm=norm)\n",
    "        plt.gca().coastlines()\n",
    "        plt.colorbar(cf, orientation='vertical')\n",
    "        plt.ylim([-10, 25])\n",
    "        plt.xlim([90, 130])\n",
    "        plt.title('%s Precip winter-summer mean' %run['label'])\n",
    "        gl = ax.gridlines(draw_labels=True, alpha=0.5)\n",
    "        gl.xlabels_top = False\n",
    "        gl.ylabels_right = False\n",
    "        fig_name = '%s_precip_winter_minus_summer_mean.png' %runid\n",
    "        plt.savefig(fig_name)\n",
    "        plt.close()\n",
    "        print('Plotted %s' %fig_name)\n",
    "        \n",
    "        fig = plt.figure(2, figsize=(12, 7), dpi=100)\n",
    "        plt.subplot(111)\n",
    "        ax = plt.axes(projection=ccrs.PlateCarree())\n",
    "        levels = np.linspace(-2, 2, 11)\n",
    "        cmap = plt.get_cmap('RdBu')\n",
    "        norm = BoundaryNorm(levels, ncolors=cmap.N, clip=True)\n",
    "        cf = iplt.pcolormesh(winter_var/summer_var, cmap=cmap, norm=norm)\n",
    "        plt.gca().coastlines()\n",
    "        plt.colorbar(cf, orientation='vertical')\n",
    "        plt.ylim([-10, 25])\n",
    "        plt.xlim([90, 130])\n",
    "        plt.title('%s Precip winter/summer variance' %run['label'])\n",
    "        gl = ax.gridlines(draw_labels=True, alpha=0.5)\n",
    "        gl.xlabels_top = False\n",
    "        gl.ylabels_right = False\n",
    "        fig_name = '%s_precip_winter_summer_ratio_variance.png' %runid\n",
    "        plt.savefig(fig_name)\n",
    "        plt.close()\n",
    "        print('Plotted %s' %fig_name)"
   ]
  },
  {
   "cell_type": "code",
   "execution_count": 63,
   "metadata": {
    "jupyter": {
     "source_hidden": true
    },
    "tags": []
   },
   "outputs": [],
   "source": [
    "def plot_precip_winter_summer_bias_maps(runs, season='NDJFM', variable='mean'):\n",
    "    \n",
    "    for run in runs:\n",
    "        runid = run['runid']\n",
    "        print(run['label'])\n",
    "        outfile_basename = '/project/MJO_GCSS/hadgem3/data/SEAPy_output/obs/obs_%s_precipitation_flux' %(season)\n",
    "        obs_precip_cube = iris.load_cube(outfile_basename+'_%s.nc' %variable)\n",
    "        out_plot_dir = os.path.join('/project/MJO_GCSS/hadgem3/data/SEAPy_output/', runid)\n",
    "        if not runid=='obs':\n",
    "            outfile_basename = os.path.join(out_plot_dir, '%s_%s_precipitation_flux' %(runid, season))\n",
    "            precip_cube = iris.load_cube(outfile_basename+'_%s.nc' %variable)\n",
    "            precip_cube.convert_units('kg m-2 day-1')\n",
    "            precip_cube = precip_cube.intersection(longitude=(90, 130), latitude=(-10,25))\n",
    "            precip_cube = prepare_calendar(precip_cube)\n",
    "\n",
    "            # Correcting coordinate system\n",
    "            for cc in ['latitude', 'longitude']:\n",
    "                obs_precip_cube.coord(cc).coord_system = precip_cube.coord(cc).coord_system\n",
    "            \n",
    "            precip_cube = precip_cube.regrid(obs_precip_cube, iris.analysis.Linear())\n",
    "            diff = precip_cube.copy()\n",
    "            diff.data -= obs_precip_cube.data\n",
    "            \n",
    "            fig = plt.figure(1, figsize=(10, 7), dpi=100)\n",
    "            plt.subplot(111)\n",
    "            ax = plt.axes(projection=ccrs.PlateCarree())\n",
    "            levels = np.arange(-20, 22, 2)\n",
    "            cmap = plt.get_cmap('RdBu')\n",
    "            norm = BoundaryNorm(levels, ncolors=cmap.N, clip=True)\n",
    "            cf = iplt.pcolormesh(diff, cmap=cmap, norm=norm)\n",
    "            plt.gca().coastlines()\n",
    "            plt.colorbar(cf, orientation='vertical')\n",
    "            plt.ylim([-10, 25])\n",
    "            plt.xlim([90, 130])\n",
    "            plt.title('%s Precip %s %s bias' %(run['label'], season, variable))\n",
    "            gl = ax.gridlines(draw_labels=True, alpha=0.5)\n",
    "            gl.xlabels_top = False\n",
    "            gl.ylabels_right = False\n",
    "            #plt.show()\n",
    "            fig_name = '%s_precip_%s_%s_bias.png' %(runid, season, variable)\n",
    "            plt.savefig(fig_name)\n",
    "            plt.close()\n",
    "            print('Plotted %s' %fig_name)"
   ]
  },
  {
   "cell_type": "code",
   "execution_count": 28,
   "metadata": {
    "jupyter": {
     "source_hidden": true
    },
    "tags": []
   },
   "outputs": [],
   "source": [
    "def plot_precip_filt_ratio_maps(runs, season='MJJAS', variable='variance'):\n",
    "    for run in runs:\n",
    "        runid = run['runid']\n",
    "        print(run['label'])\n",
    "        out_plot_dir = os.path.join('/project/MJO_GCSS/hadgem3/data/SEAPy_output/', runid)\n",
    "        outfile_basename = os.path.join(out_plot_dir, '%s_%s_precipitation_flux' %(runid, season))\n",
    "        precip_cube = iris.load_cube(outfile_basename+'_%s.nc' %variable)\n",
    "        #if not runid=='obs':\n",
    "        #    precip_cube.convert_units('kg m-2 day-1')\n",
    "            \n",
    "        precip_cube = precip_cube.intersection(longitude=(90, 130), latitude=(-10,25))\n",
    "        precip_cube = prepare_calendar(precip_cube)\n",
    "\n",
    "        outfile_basename = os.path.join(out_plot_dir, '%s_%s_precipitation_flux_filt' %(runid, season))\n",
    "        precip_filt_cube = iris.load_cube(outfile_basename+'_%s.nc' %variable)\n",
    "\n",
    "        # Correcting coordinate system\n",
    "        for cc in ['latitude', 'longitude']:\n",
    "            precip_filt_cube.coord(cc).coord_system = precip_cube.coord(cc).coord_system\n",
    "\n",
    "        precip_filt_cube = precip_filt_cube.regrid(precip_cube, iris.analysis.Linear())\n",
    "        ratio = precip_filt_cube.copy()\n",
    "        ratio /= precip_cube\n",
    "        \n",
    "        fig = plt.figure(1, figsize=(12, 7), dpi=100)\n",
    "        plt.subplot(111)\n",
    "        ax = plt.axes(projection=ccrs.PlateCarree())\n",
    "        levels = np.arange(0, 0.5, 0.1)\n",
    "        cmap = plt.get_cmap('GnBu')\n",
    "        norm = BoundaryNorm(levels, ncolors=cmap.N, clip=True)\n",
    "        cf = iplt.pcolormesh(ratio, cmap=cmap, norm=norm)\n",
    "        plt.gca().coastlines()\n",
    "        plt.colorbar(cf, orientation='vertical')\n",
    "        plt.ylim([-10, 25])\n",
    "        plt.xlim([90, 130])\n",
    "        plt.title('%s Precip %s filt/total %s ratio.png' %(run['label'], season, variable))\n",
    "        gl = ax.gridlines(draw_labels=True, alpha=0.5)\n",
    "        gl.xlabels_top = False\n",
    "        gl.ylabels_right = False\n",
    "        fig_name = '%s_precip_%s_%s_ratio.png' %(runid, season, variable)\n",
    "        plt.savefig(fig_name)\n",
    "        print('Plotted %s' %fig_name)\n",
    "        plt.close()"
   ]
  },
  {
   "cell_type": "code",
   "execution_count": 20,
   "metadata": {},
   "outputs": [],
   "source": [
    "outfile_basename = '/project/MJO_GCSS/hadgem3/data/SEAPy_output/obs/obs_%s_precipitation_flux' %('NDJFM')\n",
    "obs_precip_cube = iris.load_cube(outfile_basename+'_%s.nc' %'mean')\n",
    "outfile_basename = '/project/MJO_GCSS/hadgem3/data/SEAPy_output/u-ch221/u-ch221_%s_precipitation_flux' %('NDJFM')\n",
    "precip_cube = iris.load_cube(outfile_basename+'_%s.nc' %'mean')"
   ]
  },
  {
   "cell_type": "code",
   "execution_count": 204,
   "metadata": {},
   "outputs": [],
   "source": []
  },
  {
   "cell_type": "code",
   "execution_count": 207,
   "metadata": {},
   "outputs": [],
   "source": [
    "#obs_precip_cube.attributes['grid_type']\n",
    "#from iris.experimental.equalise_cubes import equalise_attributes\n",
    "#equalise_attributes([obs_precip_cube, precip_cube])\n",
    "#obs_precip_cube = obs_precip_cube.regrid(precip_cube, iris.analysis.Linear())"
   ]
  },
  {
   "cell_type": "code",
   "execution_count": 8,
   "metadata": {},
   "outputs": [],
   "source": []
  },
  {
   "cell_type": "code",
   "execution_count": 139,
   "metadata": {
    "collapsed": true,
    "jupyter": {
     "outputs_hidden": true
    },
    "tags": []
   },
   "outputs": [
    {
     "name": "stderr",
     "output_type": "stream",
     "text": [
      "/opt/scitools/environments/default/2020_10_12/lib/python3.6/site-packages/iris/coords.py:1193: UserWarning: Coordinate 'longitude' is not bounded, guessing contiguous bounds.\n",
      "  'contiguous bounds.'.format(self.name()))\n",
      "/opt/scitools/environments/default/2020_10_12/lib/python3.6/site-packages/iris/coords.py:1193: UserWarning: Coordinate 'latitude' is not bounded, guessing contiguous bounds.\n",
      "  'contiguous bounds.'.format(self.name()))\n"
     ]
    }
   ],
   "source": [
    "fig = plt.figure(1, figsize=(12, 7), dpi=100)\n",
    "plt.subplot(111)\n",
    "ax = plt.axes(projection=ccrs.PlateCarree())\n",
    "levels = np.arange(-20, 20, 2)\n",
    "cmap = plt.get_cmap('RdBu')\n",
    "norm = BoundaryNorm(levels, ncolors=cmap.N, clip=True)\n",
    "cf = iplt.pcolormesh(winter_mean-summer_mean, cmap=cmap, norm=norm)\n",
    "plt.gca().coastlines()\n",
    "plt.colorbar(cf, orientation='vertical')\n",
    "plt.ylim([-10, 25])\n",
    "plt.xlim([90, 130])\n",
    "plt.title('%s Precip winter-summer mean' %run['label'])\n",
    "gl = ax.gridlines(draw_labels=True, alpha=0.5)\n",
    "gl.xlabels_top = False\n",
    "gl.ylabels_right = False\n",
    "plt.show()"
   ]
  },
  {
   "cell_type": "code",
   "execution_count": 137,
   "metadata": {
    "collapsed": true,
    "jupyter": {
     "outputs_hidden": true
    },
    "tags": []
   },
   "outputs": [
    {
     "name": "stderr",
     "output_type": "stream",
     "text": [
      "/opt/scitools/environments/default/2020_10_12/lib/python3.6/site-packages/iris/coords.py:1193: UserWarning: Coordinate 'longitude' is not bounded, guessing contiguous bounds.\n",
      "  'contiguous bounds.'.format(self.name()))\n",
      "/opt/scitools/environments/default/2020_10_12/lib/python3.6/site-packages/iris/coords.py:1193: UserWarning: Coordinate 'latitude' is not bounded, guessing contiguous bounds.\n",
      "  'contiguous bounds.'.format(self.name()))\n"
     ]
    }
   ],
   "source": [
    "fig = plt.figure(2, figsize=(12, 7), dpi=100)\n",
    "plt.subplot(111)\n",
    "ax = plt.axes(projection=ccrs.PlateCarree())\n",
    "levels = np.linspace(-2, 2, 11)\n",
    "cmap = plt.get_cmap('RdBu')\n",
    "norm = BoundaryNorm(levels, ncolors=cmap.N, clip=True)\n",
    "cf = iplt.pcolormesh(winter_var/summer_var, cmap=cmap, norm=norm)\n",
    "plt.gca().coastlines()\n",
    "plt.colorbar(cf, orientation='vertical')\n",
    "plt.ylim([-10, 25])\n",
    "plt.xlim([90, 130])\n",
    "plt.title('%s Precip winter/summer variance' %run['label'])\n",
    "gl = ax.gridlines(draw_labels=True, alpha=0.5)\n",
    "gl.xlabels_top = False\n",
    "gl.ylabels_right = False\n",
    "plt.show()"
   ]
  },
  {
   "cell_type": "code",
   "execution_count": 71,
   "metadata": {
    "tags": []
   },
   "outputs": [],
   "source": [
    "control = {}\n",
    "control['runid'] = 'u-bs902'\n",
    "control['label'] = 'GC4.0 N216O25'\n",
    "control['start_date'] = '1981/12/01'\n",
    "control['end_date'] = '2008/12/01'\n",
    "control['data_retrieve_dir'] = '/scratch/hadpx/hadgem3/data/SEAPy'\n",
    "\n",
    "expt = {}\n",
    "expt['runid'] = 'u-co779'\n",
    "expt['label'] = 'GC5.0 N216O25'\n",
    "expt['start_date'] = '1981/12/01'\n",
    "expt['end_date'] = '2008/12/01'\n",
    "expt['data_retrieve_dir'] = '/scratch/hadpx/hadgem3/data/SEAPy'\n",
    "\n",
    "obs = {}\n",
    "obs['runid'] = 'obs'\n",
    "obs['label'] = 'ERA5/GPM'\n",
    "obs['start_date'] = '1989/01/01'\n",
    "obs['end_date'] = '2008/12/01'\n",
    "obs['data_retrieve_dir'] = '/project/MJO_GCSS/hadgem3/data/obs/SEAPy_data'"
   ]
  },
  {
   "cell_type": "code",
   "execution_count": 72,
   "metadata": {},
   "outputs": [],
   "source": [
    "runs = [control, expt, obs]\n",
    "plot_precip_monthly_means(runs)"
   ]
  },
  {
   "cell_type": "code",
   "execution_count": 70,
   "metadata": {
    "tags": []
   },
   "outputs": [
    {
     "name": "stdout",
     "output_type": "stream",
     "text": [
      "GC4.0 N216O25\n",
      "Mean Written /project/MJO_GCSS/hadgem3/data/SEAPy_output/u-bs902/u-bs902_DJF_precipitation_flux_mean.nc\n",
      "Variance Written /project/MJO_GCSS/hadgem3/data/SEAPy_output/u-bs902/u-bs902_DJF_precipitation_flux_variance.nc\n",
      "Mean Written /project/MJO_GCSS/hadgem3/data/SEAPy_output/u-bs902/u-bs902_JJA_precipitation_flux_mean.nc\n",
      "Variance Written /project/MJO_GCSS/hadgem3/data/SEAPy_output/u-bs902/u-bs902_JJA_precipitation_flux_variance.nc\n",
      "Plotted u-bs902_precip_winter_minus_summer_mean.png\n",
      "Plotted u-bs902_precip_winter_summer_ratio_variance.png\n",
      "GC5.0 N216O25\n",
      "Mean Written /project/MJO_GCSS/hadgem3/data/SEAPy_output/u-co779/u-co779_DJF_precipitation_flux_mean.nc\n",
      "Variance Written /project/MJO_GCSS/hadgem3/data/SEAPy_output/u-co779/u-co779_DJF_precipitation_flux_variance.nc\n",
      "Mean Written /project/MJO_GCSS/hadgem3/data/SEAPy_output/u-co779/u-co779_JJA_precipitation_flux_mean.nc\n",
      "Variance Written /project/MJO_GCSS/hadgem3/data/SEAPy_output/u-co779/u-co779_JJA_precipitation_flux_variance.nc\n",
      "Plotted u-co779_precip_winter_minus_summer_mean.png\n",
      "Plotted u-co779_precip_winter_summer_ratio_variance.png\n",
      "ERAInt/TRMM\n",
      "Mean Written /project/MJO_GCSS/hadgem3/data/SEAPy_output/obs/obs_DJF_precipitation_flux_mean.nc\n",
      "Variance Written /project/MJO_GCSS/hadgem3/data/SEAPy_output/obs/obs_DJF_precipitation_flux_variance.nc\n",
      "Mean Written /project/MJO_GCSS/hadgem3/data/SEAPy_output/obs/obs_JJA_precipitation_flux_mean.nc\n",
      "Variance Written /project/MJO_GCSS/hadgem3/data/SEAPy_output/obs/obs_JJA_precipitation_flux_variance.nc\n",
      "Plotted obs_precip_winter_minus_summer_mean.png\n",
      "Plotted obs_precip_winter_summer_ratio_variance.png\n"
     ]
    }
   ],
   "source": [
    "plot_precip_winter_summer_maps(runs, filt=False)"
   ]
  },
  {
   "cell_type": "code",
   "execution_count": 38,
   "metadata": {
    "tags": []
   },
   "outputs": [
    {
     "name": "stdout",
     "output_type": "stream",
     "text": [
      "GC4.0 N216O25\n",
      "Plotted u-bs902_precip_NDJFM_mean_bias.png\n",
      "GC5.0 N216O25\n",
      "Plotted u-co779_precip_NDJFM_mean_bias.png\n",
      "ERAInt/TRMM\n",
      "GC4.0 N216O25\n",
      "Plotted u-bs902_precip_MJJAS_mean_bias.png\n",
      "GC5.0 N216O25\n",
      "Plotted u-co779_precip_MJJAS_mean_bias.png\n",
      "ERAInt/TRMM\n",
      "GC4.0 N216O25\n",
      "Plotted u-bs902_precip_DJF_mean_bias.png\n",
      "GC5.0 N216O25\n",
      "Plotted u-co779_precip_DJF_mean_bias.png\n",
      "ERAInt/TRMM\n",
      "GC4.0 N216O25\n",
      "Plotted u-bs902_precip_JJA_mean_bias.png\n",
      "GC5.0 N216O25\n",
      "Plotted u-co779_precip_JJA_mean_bias.png\n",
      "ERAInt/TRMM\n"
     ]
    }
   ],
   "source": [
    "plot_precip_winter_summer_bias_maps(runs, season='NDJFM', variable='mean')\n",
    "plot_precip_winter_summer_bias_maps(runs, season='MJJAS', variable='mean')\n",
    "plot_precip_winter_summer_bias_maps(runs, season='DJF', variable='mean')\n",
    "plot_precip_winter_summer_bias_maps(runs, season='JJA', variable='mean')"
   ]
  },
  {
   "cell_type": "code",
   "execution_count": 267,
   "metadata": {},
   "outputs": [
    {
     "name": "stdout",
     "output_type": "stream",
     "text": [
      "GA8GL9\n"
     ]
    },
    {
     "name": "stderr",
     "output_type": "stream",
     "text": [
      "/opt/scitools/environments/default/2020_10_12/lib/python3.6/site-packages/iris/coords.py:1193: UserWarning: Coordinate 'longitude' is not bounded, guessing contiguous bounds.\n",
      "  'contiguous bounds.'.format(self.name()))\n",
      "/opt/scitools/environments/default/2020_10_12/lib/python3.6/site-packages/iris/coords.py:1193: UserWarning: Coordinate 'latitude' is not bounded, guessing contiguous bounds.\n",
      "  'contiguous bounds.'.format(self.name()))\n"
     ]
    },
    {
     "name": "stdout",
     "output_type": "stream",
     "text": [
      "Plotted u-bu357_precip_MJJAS_variance_ratio.png\n",
      "GA8GL9_577.6\n"
     ]
    },
    {
     "name": "stderr",
     "output_type": "stream",
     "text": [
      "/opt/scitools/environments/default/2020_10_12/lib/python3.6/site-packages/iris/coords.py:1193: UserWarning: Coordinate 'longitude' is not bounded, guessing contiguous bounds.\n",
      "  'contiguous bounds.'.format(self.name()))\n",
      "/opt/scitools/environments/default/2020_10_12/lib/python3.6/site-packages/iris/coords.py:1193: UserWarning: Coordinate 'latitude' is not bounded, guessing contiguous bounds.\n",
      "  'contiguous bounds.'.format(self.name()))\n"
     ]
    },
    {
     "name": "stdout",
     "output_type": "stream",
     "text": [
      "Plotted u-ci336_precip_MJJAS_variance_ratio.png\n",
      "CoMv8p1\n"
     ]
    },
    {
     "name": "stderr",
     "output_type": "stream",
     "text": [
      "/opt/scitools/environments/default/2020_10_12/lib/python3.6/site-packages/iris/coords.py:1193: UserWarning: Coordinate 'longitude' is not bounded, guessing contiguous bounds.\n",
      "  'contiguous bounds.'.format(self.name()))\n",
      "/opt/scitools/environments/default/2020_10_12/lib/python3.6/site-packages/iris/coords.py:1193: UserWarning: Coordinate 'latitude' is not bounded, guessing contiguous bounds.\n",
      "  'contiguous bounds.'.format(self.name()))\n"
     ]
    },
    {
     "name": "stdout",
     "output_type": "stream",
     "text": [
      "Plotted u-ch221_precip_MJJAS_variance_ratio.png\n",
      "TRMM\n"
     ]
    },
    {
     "name": "stderr",
     "output_type": "stream",
     "text": [
      "/opt/scitools/environments/default/2020_10_12/lib/python3.6/site-packages/iris/coords.py:1193: UserWarning: Coordinate 'longitude' is not bounded, guessing contiguous bounds.\n",
      "  'contiguous bounds.'.format(self.name()))\n",
      "/opt/scitools/environments/default/2020_10_12/lib/python3.6/site-packages/iris/coords.py:1193: UserWarning: Coordinate 'latitude' is not bounded, guessing contiguous bounds.\n",
      "  'contiguous bounds.'.format(self.name()))\n"
     ]
    },
    {
     "name": "stdout",
     "output_type": "stream",
     "text": [
      "Plotted obs_precip_MJJAS_variance_ratio.png\n",
      "GA8GL9\n"
     ]
    },
    {
     "name": "stderr",
     "output_type": "stream",
     "text": [
      "/opt/scitools/environments/default/2020_10_12/lib/python3.6/site-packages/iris/coords.py:1193: UserWarning: Coordinate 'longitude' is not bounded, guessing contiguous bounds.\n",
      "  'contiguous bounds.'.format(self.name()))\n",
      "/opt/scitools/environments/default/2020_10_12/lib/python3.6/site-packages/iris/coords.py:1193: UserWarning: Coordinate 'latitude' is not bounded, guessing contiguous bounds.\n",
      "  'contiguous bounds.'.format(self.name()))\n"
     ]
    },
    {
     "name": "stdout",
     "output_type": "stream",
     "text": [
      "Plotted u-bu357_precip_NDJFM_variance_ratio.png\n",
      "GA8GL9_577.6\n"
     ]
    },
    {
     "name": "stderr",
     "output_type": "stream",
     "text": [
      "/opt/scitools/environments/default/2020_10_12/lib/python3.6/site-packages/iris/coords.py:1193: UserWarning: Coordinate 'longitude' is not bounded, guessing contiguous bounds.\n",
      "  'contiguous bounds.'.format(self.name()))\n",
      "/opt/scitools/environments/default/2020_10_12/lib/python3.6/site-packages/iris/coords.py:1193: UserWarning: Coordinate 'latitude' is not bounded, guessing contiguous bounds.\n",
      "  'contiguous bounds.'.format(self.name()))\n"
     ]
    },
    {
     "name": "stdout",
     "output_type": "stream",
     "text": [
      "Plotted u-ci336_precip_NDJFM_variance_ratio.png\n",
      "CoMv8p1\n"
     ]
    },
    {
     "name": "stderr",
     "output_type": "stream",
     "text": [
      "/opt/scitools/environments/default/2020_10_12/lib/python3.6/site-packages/iris/coords.py:1193: UserWarning: Coordinate 'longitude' is not bounded, guessing contiguous bounds.\n",
      "  'contiguous bounds.'.format(self.name()))\n",
      "/opt/scitools/environments/default/2020_10_12/lib/python3.6/site-packages/iris/coords.py:1193: UserWarning: Coordinate 'latitude' is not bounded, guessing contiguous bounds.\n",
      "  'contiguous bounds.'.format(self.name()))\n"
     ]
    },
    {
     "name": "stdout",
     "output_type": "stream",
     "text": [
      "Plotted u-ch221_precip_NDJFM_variance_ratio.png\n",
      "TRMM\n"
     ]
    },
    {
     "name": "stderr",
     "output_type": "stream",
     "text": [
      "/opt/scitools/environments/default/2020_10_12/lib/python3.6/site-packages/iris/coords.py:1193: UserWarning: Coordinate 'longitude' is not bounded, guessing contiguous bounds.\n",
      "  'contiguous bounds.'.format(self.name()))\n",
      "/opt/scitools/environments/default/2020_10_12/lib/python3.6/site-packages/iris/coords.py:1193: UserWarning: Coordinate 'latitude' is not bounded, guessing contiguous bounds.\n",
      "  'contiguous bounds.'.format(self.name()))\n"
     ]
    },
    {
     "name": "stdout",
     "output_type": "stream",
     "text": [
      "Plotted obs_precip_NDJFM_variance_ratio.png\n"
     ]
    }
   ],
   "source": [
    "plot_precip_filt_ratio_maps(runs, season='MJJAS', variable='variance')\n",
    "plot_precip_filt_ratio_maps(runs, season='NDJFM', variable='variance')"
   ]
  },
  {
   "cell_type": "code",
   "execution_count": 58,
   "metadata": {},
   "outputs": [
    {
     "data": {
      "text/plain": [
       "AuxCoord(array([ 1,  2,  3,  4,  5,  6,  7,  8,  9, 10, 11, 12]), standard_name=None, units=Unit('1'), long_name='month_number')"
      ]
     },
     "execution_count": 58,
     "metadata": {},
     "output_type": "execute_result"
    }
   ],
   "source": [
    "monthly_clims[-1].coord('month_number')"
   ]
  },
  {
   "cell_type": "code",
   "execution_count": 77,
   "metadata": {},
   "outputs": [],
   "source": []
  },
  {
   "cell_type": "code",
   "execution_count": 64,
   "metadata": {},
   "outputs": [
    {
     "data": {
      "text/plain": [
       "array([ 0,  1,  2,  3,  4,  5,  6,  7,  8,  9, 10, 11, 12])"
      ]
     },
     "execution_count": 64,
     "metadata": {},
     "output_type": "execute_result"
    }
   ],
   "source": [
    "np.arange(13)"
   ]
  },
  {
   "cell_type": "code",
   "execution_count": null,
   "metadata": {},
   "outputs": [],
   "source": []
  }
 ],
 "metadata": {
  "kernelspec": {
   "display_name": "Python 3 (ipykernel)",
   "language": "python",
   "name": "python3"
  },
  "language_info": {
   "codemirror_mode": {
    "name": "ipython",
    "version": 3
   },
   "file_extension": ".py",
   "mimetype": "text/x-python",
   "name": "python",
   "nbconvert_exporter": "python",
   "pygments_lexer": "ipython3",
   "version": "3.8.12"
  }
 },
 "nbformat": 4,
 "nbformat_minor": 4
}
