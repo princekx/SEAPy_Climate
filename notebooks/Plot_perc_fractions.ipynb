{
 "cells": [
  {
   "cell_type": "code",
   "execution_count": 25,
   "metadata": {},
   "outputs": [
    {
     "name": "stdout",
     "output_type": "stream",
     "text": [
      "Using matplotlib backend: Qt5Agg\n"
     ]
    }
   ],
   "source": [
    "import os\n",
    "import datetime\n",
    "import numpy as np\n",
    "import matplotlib as mpl\n",
    "import matplotlib.pyplot as plt\n",
    "from matplotlib.colors import BoundaryNorm\n",
    "import iris\n",
    "import iris.plot as iplt\n",
    "import cartopy.crs as ccrs\n",
    "import pandas as pd\n",
    "%matplotlib"
   ]
  },
  {
   "cell_type": "code",
   "execution_count": 7,
   "metadata": {},
   "outputs": [],
   "source": [
    "cs_index_out_dir = '/project/MJO_GCSS/hadgem3/data/SEAPy_output/obs'"
   ]
  },
  {
   "cell_type": "code",
   "execution_count": 27,
   "metadata": {},
   "outputs": [
    {
     "name": "stderr",
     "output_type": "stream",
     "text": [
      "/opt/scitools/environments/default/2020_10_12/lib/python3.6/site-packages/iris/coords.py:1193: UserWarning: Coordinate 'longitude' is not bounded, guessing contiguous bounds.\n",
      "  'contiguous bounds.'.format(self.name()))\n",
      "/opt/scitools/environments/default/2020_10_12/lib/python3.6/site-packages/iris/coords.py:1193: UserWarning: Coordinate 'latitude' is not bounded, guessing contiguous bounds.\n",
      "  'contiguous bounds.'.format(self.name()))\n"
     ]
    },
    {
     "data": {
      "text/plain": [
       "<cartopy.mpl.feature_artist.FeatureArtist at 0x7f8a490c4ef0>"
      ]
     },
     "execution_count": 27,
     "metadata": {},
     "output_type": "execute_result"
    }
   ],
   "source": [
    "#for cst in ['NDJF', 'CS', 'CES']:\n",
    "percentile=95\n",
    "runid='obs'\n",
    "cst = 'NDJF'\n",
    "\n",
    "filename = os.path.join(cs_index_out_dir, \"%s_%s_%s_%s_percentile.nc\" %\n",
    "                        (runid, cst, 'precip', percentile))\n",
    "seasonal_precip_perc = iris.load_cube(filename)\n",
    "\n",
    "cst = 'CES'\n",
    "filename = os.path.join(cs_index_out_dir, \"%s_%s_%s_%s_percentile.nc\" %\n",
    "                        (runid, cst, 'precip', percentile))\n",
    "precip_perc = iris.load_cube(filename)\n",
    "\n",
    "plt.figure()\n",
    "ax = plt.axes(projection=ccrs.PlateCarree())\n",
    "figname = os.path.join(cs_index_out_dir, '%s_%s_%s_%s_percentile.pdf' %\n",
    "                       (runid, cst, 'precip', percentile))\n",
    "#cf = iplt.contourf( 100.*(precip_perc-seasonal_precip_perc)/seasonal_precip_perc, \n",
    "#                   levels=np.arange(-100, 120, 20), cmap='RdBu', extend='both')\n",
    "\n",
    "levels=np.arange(-100, 120, 20)\n",
    "cmap = plt.get_cmap('RdBu')\n",
    "norm = BoundaryNorm(levels, ncolors=cmap.N, clip=True)\n",
    "cf = iplt.pcolormesh(100.*(precip_perc-seasonal_precip_perc)/seasonal_precip_perc, cmap=cmap, norm=norm)\n",
    "\n",
    "plt.colorbar(cf, orientation='vertical')\n",
    "plt.ylim([-10, 25])\n",
    "plt.xlim([95, 130])\n",
    "gl = ax.gridlines(draw_labels=True, color='white')\n",
    "gl.xlabels_top = False\n",
    "gl.ylabels_right = False\n",
    "plt.title('%s perc change in %s percentile PRECIP \\n due to %s' % (runid, percentile, cst))\n",
    "plt.gca().coastlines()\n",
    "#plt.savefig(figname, bbox_inches='tight', pad_inches=0)\n",
    "#print('%s plotted.' % figname)"
   ]
  },
  {
   "cell_type": "code",
   "execution_count": null,
   "metadata": {},
   "outputs": [],
   "source": []
  }
 ],
 "metadata": {
  "kernelspec": {
   "display_name": "Python 3 (ipykernel)",
   "language": "python",
   "name": "python3"
  },
  "language_info": {
   "codemirror_mode": {
    "name": "ipython",
    "version": 3
   },
   "file_extension": ".py",
   "mimetype": "text/x-python",
   "name": "python",
   "nbconvert_exporter": "python",
   "pygments_lexer": "ipython3",
   "version": "3.8.12"
  }
 },
 "nbformat": 4,
 "nbformat_minor": 4
}
