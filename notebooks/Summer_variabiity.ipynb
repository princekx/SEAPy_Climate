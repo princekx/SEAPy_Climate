{
 "cells": [
  {
   "cell_type": "code",
   "execution_count": 58,
   "metadata": {},
   "outputs": [
    {
     "name": "stdout",
     "output_type": "stream",
     "text": [
      "Using matplotlib backend: Qt5Agg\n"
     ]
    }
   ],
   "source": [
    "import os\n",
    "import numpy as np\n",
    "import numpy.ma as ma\n",
    "import matplotlib as mpl\n",
    "import matplotlib.pyplot as plt\n",
    "from matplotlib.colors import BoundaryNorm\n",
    "import iris\n",
    "import iris.quickplot as qplt\n",
    "import iris.plot as iplt\n",
    "import cartopy.crs as ccrs\n",
    "import iris.analysis.calculus as calculus\n",
    "from iris.coord_categorisation import add_year, add_month_number, add_day_of_month, add_day_of_year\n",
    "import pandas as pd\n",
    "from scipy.signal import butter, lfilter\n",
    "from scipy.signal import find_peaks\n",
    "import datetime\n",
    "import matplotlib.colors as colors\n",
    "import glob\n",
    "%matplotlib "
   ]
  },
  {
   "cell_type": "code",
   "execution_count": 124,
   "metadata": {
    "jupyter": {
     "source_hidden": true
    }
   },
   "outputs": [],
   "source": [
    "def derivative(cube, axisname):\n",
    "    R = 6378388.  # Radius of the earth\n",
    "    deg2rad = 0.0174533  # pi/180.\n",
    "    dcube = cube.copy()\n",
    "\n",
    "    coord_names = np.array([c.var_name for c in cube.coords()])\n",
    "    # print(coord_names)\n",
    "\n",
    "    if axisname == 'latitude':\n",
    "        lats = cube.coord('latitude').points\n",
    "        axis_index = np.where(coord_names == 'latitude')[0][0]\n",
    "        dlat = np.diff(lats) * deg2rad  # convert to radians\n",
    "        dy = R * np.sin(dlat)  # constant at this latitude\n",
    "        dcube = calculus.differentiate(cube, 'latitude')\n",
    "        dcube /= iris.util.broadcast_to_shape(dy, dcube.shape, (axis_index,))\n",
    "\n",
    "    if axisname == 'longitude':\n",
    "        lats = cube.coord('latitude').points\n",
    "        lons = cube.coord('longitude').points\n",
    "        axis_index = np.where(coord_names == 'latitude')[0][0]\n",
    "        dlon = (lons[1] - lons[0]) * deg2rad  # convert to radians\n",
    "        dx = np.array([R * np.cos(deg2rad * lat) * dlon for lat in lats])\n",
    "        dcube = calculus.differentiate(cube, 'longitude')\n",
    "        dcube /= iris.util.broadcast_to_shape(dx, dcube.shape, (axis_index,))\n",
    "    return dcube"
   ]
  },
  {
   "cell_type": "code",
   "execution_count": 2,
   "metadata": {
    "jupyter": {
     "source_hidden": true
    }
   },
   "outputs": [],
   "source": [
    "def low_pass_weights(window, cutoff):\n",
    "    \"\"\"Calculate weights for a low pass Lanczos filter.\n",
    "\n",
    "    Args:\n",
    "\n",
    "    window: int\n",
    "        The length of the filter window.\n",
    "\n",
    "    cutoff: float\n",
    "        The cutoff frequency in inverse time steps.\n",
    "\n",
    "    \"\"\"\n",
    "    order = ((window - 1) // 2 ) + 1\n",
    "    nwts = 2 * order + 1\n",
    "    w = np.zeros([nwts])\n",
    "    n = nwts // 2\n",
    "    w[n] = 2 * cutoff\n",
    "    k = np.arange(1., n)\n",
    "    sigma = np.sin(np.pi * k / n) * n / (np.pi * k)\n",
    "    firstfactor = np.sin(2. * np.pi * cutoff * k) / (np.pi * k)\n",
    "    w[n-1:0:-1] = firstfactor * sigma\n",
    "    w[n+1:-1] = firstfactor * sigma\n",
    "    return w[1:-1]\n",
    "\n",
    "def lanczos_filter(cube, window=101, low=1./100., high=1./20.):\n",
    "    wgts_high = low_pass_weights(window, high)\n",
    "    wgts_low = low_pass_weights(window, low)\n",
    "    cube_filt = cube.copy()\n",
    "    cube_filt.data = np.apply_along_axis(lambda m: (np.convolve(m, wgts_high, mode='same') - \n",
    "                            np.convolve(m, wgts_low, mode='same')), axis=0, arr=cube.data)\n",
    "    return cube_filt"
   ]
  },
  {
   "cell_type": "code",
   "execution_count": 61,
   "metadata": {},
   "outputs": [],
   "source": [
    "def prepare_calendar(cube):\n",
    "    # Setting up the dates on data\n",
    "    if not cube.coords('year'):\n",
    "        iris.coord_categorisation.add_year(cube, 'time', name='year')\n",
    "    if not cube.coords('month_number'):\n",
    "        iris.coord_categorisation.add_month_number(cube, 'time', name='month_number')\n",
    "    if not cube.coords('day_of_month'):\n",
    "        iris.coord_categorisation.add_day_of_month(cube, 'time', name='day_of_month')\n",
    "    if not cube.coords('day_of_year'):\n",
    "        iris.coord_categorisation.add_day_of_year(cube, 'time', name='day_of_year')\n",
    "    return cube\n",
    "\n",
    "def return_indices_of_a(a, b):\n",
    "  b_set = set(b)\n",
    "  return [int(i) for i, v in enumerate(a) if v in b_set]"
   ]
  },
  {
   "cell_type": "code",
   "execution_count": 4,
   "metadata": {
    "jupyter": {
     "source_hidden": true
    }
   },
   "outputs": [],
   "source": [
    "def find_nearest_in_list(myList, myNumber):\n",
    "    return min(myList, key=lambda x: abs(x - myNumber))\n",
    "\n",
    "def get_cube_coords_along_line(cube, start_coords=None, end_coords=None):\n",
    "    '''\n",
    "    Generate a (lat,lon) pair of cube coordinates along a line\n",
    "    made up of start and end points\n",
    "    :param cube: iris cube with (lat, lon) coordinates\n",
    "    :type cube:\n",
    "    :param start_coords: (lat, lon)\n",
    "    :type start_coords:\n",
    "    :param end_coords: (lat, lon)\n",
    "    :type end_coords:\n",
    "    :return: lists of lats, lons along the path\n",
    "    :rtype:\n",
    "    '''\n",
    "    if not (start_coords is None) or (end_coords is None):\n",
    "        lons = cube.coord('longitude').points\n",
    "        lats = cube.coord('latitude').points\n",
    "\n",
    "        # Find the actual coordinate values between the points\n",
    "        lat1, lon1 = start_coords\n",
    "        lat2, lon2 = end_coords\n",
    "        if lon1 < lon2:\n",
    "            r_lons = lons[(lon1 < lons) & (lons <= lon2)]\n",
    "        else:\n",
    "            r_lons = lons[(lon2 < lons) & (lons <= lon1)][::-1]\n",
    "\n",
    "        if lat1 < lat2:\n",
    "            r_lats = lats[(lat1 < lats) & (lats <= lat2)]\n",
    "        else:\n",
    "            r_lats = lats[(lat2 < lats) & (lats <= lat1)][::-1]\n",
    "\n",
    "        # Generate a line from start to end points\n",
    "        # slope of the line y = mx + b\n",
    "        # m = slope = (y1-y2)/(x1-x2)\n",
    "        m = (r_lats[-1] - r_lats[0]) / (r_lons[-1] - r_lons[0])\n",
    "\n",
    "        # b = y-intercept = (x1*y2 - x2*y1)/(x1-x2)\n",
    "        b = (r_lons[0] * r_lats[-1] - r_lons[-1] * r_lats[0]) / (r_lons[0] - r_lons[-1])\n",
    "\n",
    "        # lat points for all lon points along the line\n",
    "        ys = [m * x + b for x in r_lons]\n",
    "\n",
    "        # get the corresponding lat values from the coordinate list\n",
    "        ys_lats = [find_nearest_in_list(lats, yy) for yy in ys]\n",
    "\n",
    "        return ys_lats, r_lons\n",
    "    else:\n",
    "        print('Start/End coordinates missing.')\n",
    "\n",
    "\n",
    "def cross_section_along_path(cube, lons=None, lats=None):\n",
    "    cross_section = []\n",
    "    # Extracting each point and appending\n",
    "    for ylat, xlon in zip(lats, lons):\n",
    "        cross_section.append(cube.extract(iris.Constraint(latitude=ylat, longitude=xlon)))\n",
    "\n",
    "    # merging to a single cube\n",
    "    # longitude values is given as aux coordinate\n",
    "    return iris.cube.CubeList(cross_section).merge_cube()"
   ]
  },
  {
   "cell_type": "code",
   "execution_count": 5,
   "metadata": {
    "jupyter": {
     "source_hidden": true
    }
   },
   "outputs": [],
   "source": [
    "def read_GPM():\n",
    "    file_names = glob.glob('/project/MJO_GCSS/hadgem3/data/obs/GPM/gpm_imerg_24h_mean_????????.nc')\n",
    "    cubes = []\n",
    "    for file_name in file_names:\n",
    "        cube = iris.load_cube(file_name)\n",
    "        cubes.append(cube.intersection(longitude=(90, 130), latitude=(-10,25)))\n",
    "    return cubes"
   ]
  },
  {
   "cell_type": "code",
   "execution_count": 62,
   "metadata": {},
   "outputs": [
    {
     "name": "stderr",
     "output_type": "stream",
     "text": [
      "/opt/scitools/environments/default/2020_10_12/lib/python3.6/site-packages/iris/fileformats/_pyke_rules/compiled_krb/fc_rules_cf_fc.py:1940: UserWarning: Skipping global attribute 'calendar': 'calendar' is not a permitted attribute\n",
      "  warnings.warn(msg.format(attr_name, str(e)))\n"
     ]
    }
   ],
   "source": [
    "#precip_cube = iris.load_cube('/project/MJO_GCSS/hadgem3/data/obs/SEAPy_data/obs/obs_PRECIP.pp.nc')\n",
    "precip_cube = iris.load_cube('/project/MJO_GCSS/SoutheastAsia_data/TRMM/daily/3B42_daily.1998_2012_Global.nc')\n",
    "#precip_cube = iris.load_cube('/project/MJO_GCSS/hadgem3/data/obs/GPM_SEA_24h_mean_2000_2020.nc')\n",
    "precip_cube = precip_cube.intersection(longitude=(90, 130), latitude=(-10,25))\n",
    "\n",
    "#precip_cube = read_GPM()\n",
    "#iris.cube.CubeList(precip_cube).merge()\n",
    "precip_cube = prepare_calendar(precip_cube)"
   ]
  },
  {
   "cell_type": "code",
   "execution_count": 72,
   "metadata": {},
   "outputs": [
    {
     "data": {
      "text/html": [
       "\n",
       "<style>\n",
       "  a.iris {\n",
       "      text-decoration: none !important;\n",
       "  }\n",
       "  table.iris {\n",
       "      white-space: pre;\n",
       "      border: 1px solid;\n",
       "      border-color: #9c9c9c;\n",
       "      font-family: monaco, monospace;\n",
       "  }\n",
       "  th.iris {\n",
       "      background: #303f3f;\n",
       "      color: #e0e0e0;\n",
       "      border-left: 1px solid;\n",
       "      border-color: #9c9c9c;\n",
       "      font-size: 1.05em;\n",
       "      min-width: 50px;\n",
       "      max-width: 125px;\n",
       "  }\n",
       "  tr.iris :first-child {\n",
       "      border-right: 1px solid #9c9c9c !important;\n",
       "  }\n",
       "  td.iris-title {\n",
       "      background: #d5dcdf;\n",
       "      border-top: 1px solid #9c9c9c;\n",
       "      font-weight: bold;\n",
       "  }\n",
       "  .iris-word-cell {\n",
       "      text-align: left !important;\n",
       "      white-space: pre;\n",
       "  }\n",
       "  .iris-subheading-cell {\n",
       "      padding-left: 2em !important;\n",
       "  }\n",
       "  .iris-inclusion-cell {\n",
       "      padding-right: 1em !important;\n",
       "  }\n",
       "  .iris-panel-body {\n",
       "      padding-top: 0px;\n",
       "  }\n",
       "  .iris-panel-title {\n",
       "      padding-left: 3em;\n",
       "  }\n",
       "  .iris-panel-title {\n",
       "      margin-top: 7px;\n",
       "  }\n",
       "</style>\n",
       "<table class=\"iris\" id=\"139795485898960\">\n",
       "    <tr class=\"iris\">\n",
       "<th class=\"iris iris-word-cell\">Daily (0Z-21Z) Rainfall Total (mm)</th>\n",
       "<th class=\"iris iris-word-cell\">time</th>\n",
       "<th class=\"iris iris-word-cell\">latitude</th>\n",
       "<th class=\"iris iris-word-cell\">longitude</th>\n",
       "</tr>\n",
       "    <tr class=\"iris\">\n",
       "<td class=\"iris-word-cell iris-subheading-cell\">Shape</td>\n",
       "<td class=\"iris iris-inclusion-cell\">5479</td>\n",
       "<td class=\"iris iris-inclusion-cell\">140</td>\n",
       "<td class=\"iris iris-inclusion-cell\">160</td>\n",
       "</tr>\n",
       "    <tr class=\"iris\">\n",
       "    <td class=\"iris-title iris-word-cell\">Dimension coordinates</td>\n",
       "    <td class=\"iris-title\"></td>\n",
       "    <td class=\"iris-title\"></td>\n",
       "    <td class=\"iris-title\"></td>\n",
       "</tr>\n",
       "<tr class=\"iris\">\n",
       "    <td class=\"iris-word-cell iris-subheading-cell\">\ttime</td>\n",
       "    <td class=\"iris-inclusion-cell\">x</td>\n",
       "    <td class=\"iris-inclusion-cell\">-</td>\n",
       "    <td class=\"iris-inclusion-cell\">-</td>\n",
       "</tr>\n",
       "<tr class=\"iris\">\n",
       "    <td class=\"iris-word-cell iris-subheading-cell\">\tlatitude</td>\n",
       "    <td class=\"iris-inclusion-cell\">-</td>\n",
       "    <td class=\"iris-inclusion-cell\">x</td>\n",
       "    <td class=\"iris-inclusion-cell\">-</td>\n",
       "</tr>\n",
       "<tr class=\"iris\">\n",
       "    <td class=\"iris-word-cell iris-subheading-cell\">\tlongitude</td>\n",
       "    <td class=\"iris-inclusion-cell\">-</td>\n",
       "    <td class=\"iris-inclusion-cell\">-</td>\n",
       "    <td class=\"iris-inclusion-cell\">x</td>\n",
       "</tr>\n",
       "<tr class=\"iris\">\n",
       "    <td class=\"iris-title iris-word-cell\">Auxiliary coordinates</td>\n",
       "    <td class=\"iris-title\"></td>\n",
       "    <td class=\"iris-title\"></td>\n",
       "    <td class=\"iris-title\"></td>\n",
       "</tr>\n",
       "<tr class=\"iris\">\n",
       "    <td class=\"iris-word-cell iris-subheading-cell\">\tday_of_month</td>\n",
       "    <td class=\"iris-inclusion-cell\">x</td>\n",
       "    <td class=\"iris-inclusion-cell\">-</td>\n",
       "    <td class=\"iris-inclusion-cell\">-</td>\n",
       "</tr>\n",
       "<tr class=\"iris\">\n",
       "    <td class=\"iris-word-cell iris-subheading-cell\">\tday_of_year</td>\n",
       "    <td class=\"iris-inclusion-cell\">x</td>\n",
       "    <td class=\"iris-inclusion-cell\">-</td>\n",
       "    <td class=\"iris-inclusion-cell\">-</td>\n",
       "</tr>\n",
       "<tr class=\"iris\">\n",
       "    <td class=\"iris-word-cell iris-subheading-cell\">\tmonth_number</td>\n",
       "    <td class=\"iris-inclusion-cell\">x</td>\n",
       "    <td class=\"iris-inclusion-cell\">-</td>\n",
       "    <td class=\"iris-inclusion-cell\">-</td>\n",
       "</tr>\n",
       "<tr class=\"iris\">\n",
       "    <td class=\"iris-word-cell iris-subheading-cell\">\tyear</td>\n",
       "    <td class=\"iris-inclusion-cell\">x</td>\n",
       "    <td class=\"iris-inclusion-cell\">-</td>\n",
       "    <td class=\"iris-inclusion-cell\">-</td>\n",
       "</tr>\n",
       "<tr class=\"iris\">\n",
       "    <td class=\"iris-title iris-word-cell\">Attributes</td>\n",
       "    <td class=\"iris-title\"></td>\n",
       "    <td class=\"iris-title\"></td>\n",
       "    <td class=\"iris-title\"></td>\n",
       "</tr>\n",
       "<tr class=\"iris\">\n",
       "    <td class=\"iris-word-cell iris-subheading-cell\">\tConventions</td>\n",
       "    <td class=\"iris-word-cell\" colspan=\"3\">CF-1.4</td>\n",
       "</tr>\n",
       "<tr class=\"iris\">\n",
       "    <td class=\"iris-word-cell iris-subheading-cell\">\tCoreMetadata.0</td>\n",
       "    <td class=\"iris-word-cell\" colspan=\"3\"></td>\n",
       "</tr>\n",
       "<tr class=\"iris\">\n",
       "    <td class=\"iris-word-cell iris-subheading-cell\">\tOrbitNumber.Value</td>\n",
       "    <td class=\"iris-word-cell\" colspan=\"3\">-9999</td>\n",
       "</tr>\n",
       "<tr class=\"iris\">\n",
       "    <td class=\"iris-word-cell iris-subheading-cell\">\tOrbitNumber.Data_Location</td>\n",
       "    <td class=\"iris-word-cell\" colspan=\"3\">\"PGE\"</td>\n",
       "</tr>\n",
       "<tr class=\"iris\">\n",
       "    <td class=\"iris-word-cell iris-subheading-cell\">\tOrbitNumber.Mandatory</td>\n",
       "    <td class=\"iris-word-cell\" colspan=\"3\">..</td>\n",
       "</tr>\n",
       "<tr class=\"iris\">\n",
       "    <td class=\"iris-word-cell iris-subheading-cell\">\tcenter</td>\n",
       "    <td class=\"iris-word-cell\" colspan=\"3\">gsfc</td>\n",
       "</tr>\n",
       "<tr class=\"iris\">\n",
       "    <td class=\"iris-word-cell iris-subheading-cell\">\tcomments</td>\n",
       "    <td class=\"iris-word-cell\" colspan=\"3\">file created by grads using lats4d</td>\n",
       "</tr>\n",
       "<tr class=\"iris\">\n",
       "    <td class=\"iris-word-cell iris-subheading-cell\">\tgrid_name</td>\n",
       "    <td class=\"iris-word-cell\" colspan=\"3\">grid-1</td>\n",
       "</tr>\n",
       "<tr class=\"iris\">\n",
       "    <td class=\"iris-word-cell iris-subheading-cell\">\tgrid_type</td>\n",
       "    <td class=\"iris-word-cell\" colspan=\"3\">linear</td>\n",
       "</tr>\n",
       "<tr class=\"iris\">\n",
       "    <td class=\"iris-word-cell iris-subheading-cell\">\thistory</td>\n",
       "    <td class=\"iris-word-cell\" colspan=\"3\">Fri Jul 15 13:48:24 2016: /project/ukmo/rhel6/nco/bin/ncrcat 3B42_daily.1998.01.01.7.nc...</td>\n",
       "</tr>\n",
       "<tr class=\"iris\">\n",
       "    <td class=\"iris-word-cell iris-subheading-cell\">\tlevel_description</td>\n",
       "    <td class=\"iris-word-cell\" colspan=\"3\">Earth surface</td>\n",
       "</tr>\n",
       "<tr class=\"iris\">\n",
       "    <td class=\"iris-word-cell iris-subheading-cell\">\tnco_openmp_thread_number</td>\n",
       "    <td class=\"iris-word-cell\" colspan=\"3\">1</td>\n",
       "</tr>\n",
       "</table>\n",
       "        "
      ],
      "text/plain": [
       "<iris 'Cube' of daily (0Z-21Z) rainfall total / (mm) (time: 5479; latitude: 140; longitude: 160)>"
      ]
     },
     "execution_count": 72,
     "metadata": {},
     "output_type": "execute_result"
    }
   ],
   "source": [
    "precip_cube"
   ]
  },
  {
   "cell_type": "code",
   "execution_count": 74,
   "metadata": {},
   "outputs": [],
   "source": [
    "precip_daily_climate = precip_cube.aggregated_by(['month_number'],iris.analysis.MEAN)\n",
    "#precip_daily_climate"
   ]
  },
  {
   "cell_type": "code",
   "execution_count": 80,
   "metadata": {},
   "outputs": [
    {
     "name": "stderr",
     "output_type": "stream",
     "text": [
      "/opt/scitools/environments/default/2020_10_12/lib/python3.6/site-packages/iris/cube.py:3218: UserWarning: Collapsing spatial coordinate 'latitude' without weighting\n",
      "  warnings.warn(msg.format(coord.name()))\n",
      "/opt/scitools/environments/default/2020_10_12/lib/python3.6/site-packages/iris/coords.py:1410: UserWarning: Collapsing a non-contiguous coordinate. Metadata may not be fully descriptive for 'latitude'.\n",
      "  warnings.warn(msg.format(self.name()))\n",
      "/opt/scitools/environments/default/2020_10_12/lib/python3.6/site-packages/iris/coords.py:1410: UserWarning: Collapsing a non-contiguous coordinate. Metadata may not be fully descriptive for 'longitude'.\n",
      "  warnings.warn(msg.format(self.name()))\n"
     ]
    }
   ],
   "source": []
  },
  {
   "cell_type": "code",
   "execution_count": 82,
   "metadata": {},
   "outputs": [
    {
     "name": "stderr",
     "output_type": "stream",
     "text": [
      "/opt/scitools/environments/default/2020_10_12/lib/python3.6/site-packages/iris/cube.py:3218: UserWarning: Collapsing spatial coordinate 'latitude' without weighting\n",
      "  warnings.warn(msg.format(coord.name()))\n",
      "/opt/scitools/environments/default/2020_10_12/lib/python3.6/site-packages/iris/coords.py:1410: UserWarning: Collapsing a non-contiguous coordinate. Metadata may not be fully descriptive for 'latitude'.\n",
      "  warnings.warn(msg.format(self.name()))\n",
      "/opt/scitools/environments/default/2020_10_12/lib/python3.6/site-packages/iris/coords.py:1410: UserWarning: Collapsing a non-contiguous coordinate. Metadata may not be fully descriptive for 'longitude'.\n",
      "  warnings.warn(msg.format(self.name()))\n"
     ]
    },
    {
     "data": {
      "text/plain": [
       "Text(0.5, 1.0, '95-115E, 10S-15N')"
      ]
     },
     "execution_count": 82,
     "metadata": {},
     "output_type": "execute_result"
    }
   ],
   "source": [
    "plt.subplot(211)\n",
    "precip_daily_climate_ts = precip_daily_climate.intersection(longitude=(95, 115), latitude=(-10,15)).collapsed(('latitude', 'longitude'), iris.analysis.MEAN)\n",
    "plt.bar(range(1,13), precip_daily_climate_ts.data)\n",
    "plt.title('95-115E, 10S-15N')"
   ]
  },
  {
   "cell_type": "code",
   "execution_count": 134,
   "metadata": {},
   "outputs": [],
   "source": [
    "u850_cube = iris.load_cube('/project/MJO_GCSS/hadgem3/data/obs/SEAPy_data/obs/obs_U850.pp.nc')\n",
    "u850_cube = u850_cube.intersection(longitude=(90, 130), latitude=(-10,25))\n",
    "#u850_cube = prepare_calendar(u850_cube)\n",
    "v850_cube = iris.load_cube('/project/MJO_GCSS/hadgem3/data/obs/SEAPy_data/obs/obs_V850.pp.nc')\n",
    "v850_cube = v850_cube.intersection(longitude=(90, 130), latitude=(-10,25))\n",
    "#v850_cube = prepare_calendar(v850_cube)\n",
    "## U and V are on different grids\n",
    "#u850_cube = u850_cube.regrid(v850_cube, scheme=iris.analysis.Linear())"
   ]
  },
  {
   "cell_type": "code",
   "execution_count": 68,
   "metadata": {
    "collapsed": true,
    "jupyter": {
     "outputs_hidden": true,
     "source_hidden": true
    }
   },
   "outputs": [
    {
     "data": {
      "text/plain": [
       "array([ 90. ,  92.5,  95. ,  97.5, 100. , 102.5, 105. , 107.5, 110. ,\n",
       "       112.5, 115. , 117.5, 120. , 122.5, 125. , 127.5, 130. ])"
      ]
     },
     "execution_count": 68,
     "metadata": {},
     "output_type": "execute_result"
    }
   ],
   "source": [
    "u850_cube.coord('longitude').points"
   ]
  },
  {
   "cell_type": "code",
   "execution_count": 141,
   "metadata": {},
   "outputs": [
    {
     "name": "stdout",
     "output_type": "stream",
     "text": [
      "(7305, 15, 16)\n",
      "(6209, 35, 41)\n"
     ]
    }
   ],
   "source": [
    "div_cube = derivative(u850_cube, 'longitude')#.regrid(u850_cube, iris.analysis.Linear())\n",
    "print(div_cube.shape)\n",
    "div_cube = derivative(v850_cube, 'latitude')#.regrid(u850_cube, iris.analysis.Linear())\n",
    "print(div_cube.shape)"
   ]
  },
  {
   "cell_type": "code",
   "execution_count": 150,
   "metadata": {},
   "outputs": [
    {
     "data": {
      "text/plain": [
       "('u',\n",
       " 'eastward_wind',\n",
       " <bound method CFVariableMixin.name of <iris 'Cube' of eastward_wind / (m s**-1) (time: 7305; latitude: 15; longitude: 17)>>)"
      ]
     },
     "execution_count": 150,
     "metadata": {},
     "output_type": "execute_result"
    }
   ],
   "source": [
    "u850_cube.var_name, u850_cube.standard_name, u850_cube.name"
   ]
  },
  {
   "cell_type": "code",
   "execution_count": 129,
   "metadata": {},
   "outputs": [
    {
     "name": "stderr",
     "output_type": "stream",
     "text": [
      "/opt/scitools/environments/default/2020_10_12/lib/python3.6/site-packages/iris/coords.py:1193: UserWarning: Coordinate 'longitude' is not bounded, guessing contiguous bounds.\n",
      "  'contiguous bounds.'.format(self.name()))\n",
      "/opt/scitools/environments/default/2020_10_12/lib/python3.6/site-packages/iris/coords.py:1193: UserWarning: Coordinate 'latitude' is not bounded, guessing contiguous bounds.\n",
      "  'contiguous bounds.'.format(self.name()))\n"
     ]
    },
    {
     "data": {
      "text/plain": [
       "<matplotlib.collections.QuadMesh at 0x7fcd0c16f940>"
      ]
     },
     "execution_count": 129,
     "metadata": {},
     "output_type": "execute_result"
    }
   ],
   "source": [
    "qplt.pcolormesh(div_cube[0])"
   ]
  },
  {
   "cell_type": "code",
   "execution_count": 9,
   "metadata": {},
   "outputs": [],
   "source": [
    "precip_cube_filt = lanczos_filter(precip_cube, window=101, low=1./90., high=1./20.)\n",
    "#u850_cube_filt = lanczos_filter(u850_cube, window=101, low=1./90., high=1./20.)\n",
    "#v850_cube_filt = lanczos_filter(v850_cube, window=101, low=1./90., high=1./20.)"
   ]
  },
  {
   "cell_type": "code",
   "execution_count": 22,
   "metadata": {},
   "outputs": [],
   "source": [
    "def create_dates_df(cube):\n",
    "    cube = prepare_calendar(cube)\n",
    "    cube_dates_df = pd.concat([pd.DataFrame(cube.coord('year').points),\n",
    "                          pd.DataFrame(cube.coord('month_number').points), \n",
    "                          pd.DataFrame(cube.coord('day_of_month').points)], axis=1)\n",
    "    cube_dates_df.columns = ['year', 'month', 'day']\n",
    "    return cube_dates_df\n",
    "\n",
    "precip_cube_dates_df = create_dates_df(precip_cube)\n",
    "#u850_cube_dates_df = create_dates_df(u850_cube)\n",
    "#v850_cube_dates_df = create_dates_df(v850_cube)"
   ]
  },
  {
   "cell_type": "code",
   "execution_count": 332,
   "metadata": {},
   "outputs": [
    {
     "data": {
      "text/html": [
       "<div>\n",
       "<style scoped>\n",
       "    .dataframe tbody tr th:only-of-type {\n",
       "        vertical-align: middle;\n",
       "    }\n",
       "\n",
       "    .dataframe tbody tr th {\n",
       "        vertical-align: top;\n",
       "    }\n",
       "\n",
       "    .dataframe thead th {\n",
       "        text-align: right;\n",
       "    }\n",
       "</style>\n",
       "<table border=\"1\" class=\"dataframe\">\n",
       "  <thead>\n",
       "    <tr style=\"text-align: right;\">\n",
       "      <th></th>\n",
       "      <th>year</th>\n",
       "      <th>month</th>\n",
       "      <th>day</th>\n",
       "    </tr>\n",
       "  </thead>\n",
       "  <tbody>\n",
       "    <tr>\n",
       "      <th>0</th>\n",
       "      <td>1998</td>\n",
       "      <td>1</td>\n",
       "      <td>1</td>\n",
       "    </tr>\n",
       "    <tr>\n",
       "      <th>1</th>\n",
       "      <td>1998</td>\n",
       "      <td>1</td>\n",
       "      <td>2</td>\n",
       "    </tr>\n",
       "    <tr>\n",
       "      <th>2</th>\n",
       "      <td>1998</td>\n",
       "      <td>1</td>\n",
       "      <td>3</td>\n",
       "    </tr>\n",
       "    <tr>\n",
       "      <th>3</th>\n",
       "      <td>1998</td>\n",
       "      <td>1</td>\n",
       "      <td>4</td>\n",
       "    </tr>\n",
       "    <tr>\n",
       "      <th>4</th>\n",
       "      <td>1998</td>\n",
       "      <td>1</td>\n",
       "      <td>5</td>\n",
       "    </tr>\n",
       "    <tr>\n",
       "      <th>...</th>\n",
       "      <td>...</td>\n",
       "      <td>...</td>\n",
       "      <td>...</td>\n",
       "    </tr>\n",
       "    <tr>\n",
       "      <th>6204</th>\n",
       "      <td>2014</td>\n",
       "      <td>12</td>\n",
       "      <td>27</td>\n",
       "    </tr>\n",
       "    <tr>\n",
       "      <th>6205</th>\n",
       "      <td>2014</td>\n",
       "      <td>12</td>\n",
       "      <td>28</td>\n",
       "    </tr>\n",
       "    <tr>\n",
       "      <th>6206</th>\n",
       "      <td>2014</td>\n",
       "      <td>12</td>\n",
       "      <td>29</td>\n",
       "    </tr>\n",
       "    <tr>\n",
       "      <th>6207</th>\n",
       "      <td>2014</td>\n",
       "      <td>12</td>\n",
       "      <td>30</td>\n",
       "    </tr>\n",
       "    <tr>\n",
       "      <th>6208</th>\n",
       "      <td>2014</td>\n",
       "      <td>12</td>\n",
       "      <td>31</td>\n",
       "    </tr>\n",
       "  </tbody>\n",
       "</table>\n",
       "<p>6209 rows × 3 columns</p>\n",
       "</div>"
      ],
      "text/plain": [
       "      year  month  day\n",
       "0     1998      1    1\n",
       "1     1998      1    2\n",
       "2     1998      1    3\n",
       "3     1998      1    4\n",
       "4     1998      1    5\n",
       "...    ...    ...  ...\n",
       "6204  2014     12   27\n",
       "6205  2014     12   28\n",
       "6206  2014     12   29\n",
       "6207  2014     12   30\n",
       "6208  2014     12   31\n",
       "\n",
       "[6209 rows x 3 columns]"
      ]
     },
     "execution_count": 332,
     "metadata": {},
     "output_type": "execute_result"
    }
   ],
   "source": [
    "v850_cube_dates_df"
   ]
  },
  {
   "cell_type": "markdown",
   "metadata": {},
   "source": [
    "Plot summer variance and fraction of filtered"
   ]
  },
  {
   "cell_type": "code",
   "execution_count": 12,
   "metadata": {},
   "outputs": [],
   "source": [
    "def precip_var_ratio_season(precip_cube, precip_cube_filt, season_months = [5,6,7,8, 9, 10]):\n",
    "    precip_cube_dates_df = create_dates_df(precip_cube)\n",
    "    season_df = precip_cube_dates_df.loc[(precip_cube_dates_df['month'].isin(season_months))]\n",
    "    seasonal_variance = precip_cube[season_df.index].collapsed('time', iris.analysis.VARIANCE)\n",
    "    seasonal_filt_variance = precip_cube_filt[season_df.index].collapsed('time', iris.analysis.VARIANCE)\n",
    "    return seasonal_variance, seasonal_filt_variance"
   ]
  },
  {
   "cell_type": "code",
   "execution_count": 204,
   "metadata": {},
   "outputs": [],
   "source": [
    "def make_composite(cube, inds, lag=20):\n",
    "    # Get a mid value of the number of indices\n",
    "    if len(inds)>3:\n",
    "        n2 = 3\n",
    "    comp_cube = cube[inds[n2]-lag:inds[n2]+lag+1].copy()\n",
    "    comp_data = []\n",
    "    for ind in inds:\n",
    "        try:\n",
    "            comp_data.append(cube[ind-lag:ind+lag+1].data)\n",
    "        except:\n",
    "            print('No date found. Skip')\n",
    "            pass        \n",
    "    comp_cube.data = np.ma.mean(np.array(comp_data), axis=0)\n",
    "    return comp_cube"
   ]
  },
  {
   "cell_type": "code",
   "execution_count": 83,
   "metadata": {},
   "outputs": [
    {
     "ename": "NameError",
     "evalue": "name 'precip_var_ratio_season' is not defined",
     "output_type": "error",
     "traceback": [
      "\u001b[0;31m---------------------------------------------------------------------------\u001b[0m",
      "\u001b[0;31mNameError\u001b[0m                                 Traceback (most recent call last)",
      "\u001b[0;32m<ipython-input-83-31a4adc34f96>\u001b[0m in \u001b[0;36m<module>\u001b[0;34m\u001b[0m\n\u001b[1;32m      1\u001b[0m \u001b[0;31m#tsff = np.convolve(ts.data, wgts_high, mode='same') - np.convolve(ts.data, wgts_low, mode='same')\u001b[0m\u001b[0;34m\u001b[0m\u001b[0;34m\u001b[0m\u001b[0;34m\u001b[0m\u001b[0m\n\u001b[0;32m----> 2\u001b[0;31m \u001b[0msummer_var\u001b[0m\u001b[0;34m,\u001b[0m \u001b[0msummer_filt_var\u001b[0m \u001b[0;34m=\u001b[0m \u001b[0mprecip_var_ratio_season\u001b[0m\u001b[0;34m(\u001b[0m\u001b[0mprecip_cube\u001b[0m\u001b[0;34m,\u001b[0m \u001b[0mprecip_cube_filt\u001b[0m\u001b[0;34m,\u001b[0m \u001b[0mseason_months\u001b[0m \u001b[0;34m=\u001b[0m \u001b[0;34m[\u001b[0m\u001b[0;36m5\u001b[0m\u001b[0;34m,\u001b[0m\u001b[0;36m6\u001b[0m\u001b[0;34m,\u001b[0m\u001b[0;36m7\u001b[0m\u001b[0;34m,\u001b[0m\u001b[0;36m8\u001b[0m\u001b[0;34m,\u001b[0m \u001b[0;36m9\u001b[0m\u001b[0;34m,\u001b[0m \u001b[0;36m10\u001b[0m\u001b[0;34m]\u001b[0m\u001b[0;34m)\u001b[0m\u001b[0;34m\u001b[0m\u001b[0;34m\u001b[0m\u001b[0m\n\u001b[0m\u001b[1;32m      3\u001b[0m \u001b[0mwinter_var\u001b[0m\u001b[0;34m,\u001b[0m \u001b[0mwinter_filt_var\u001b[0m \u001b[0;34m=\u001b[0m \u001b[0mprecip_var_ratio_season\u001b[0m\u001b[0;34m(\u001b[0m\u001b[0mprecip_cube\u001b[0m\u001b[0;34m,\u001b[0m \u001b[0mprecip_cube_filt\u001b[0m\u001b[0;34m,\u001b[0m \u001b[0mseason_months\u001b[0m \u001b[0;34m=\u001b[0m \u001b[0;34m[\u001b[0m\u001b[0;36m1\u001b[0m\u001b[0;34m,\u001b[0m\u001b[0;36m2\u001b[0m\u001b[0;34m,\u001b[0m\u001b[0;36m3\u001b[0m\u001b[0;34m,\u001b[0m\u001b[0;36m4\u001b[0m\u001b[0;34m,\u001b[0m\u001b[0;36m11\u001b[0m\u001b[0;34m,\u001b[0m\u001b[0;36m12\u001b[0m\u001b[0;34m]\u001b[0m\u001b[0;34m)\u001b[0m\u001b[0;34m\u001b[0m\u001b[0;34m\u001b[0m\u001b[0m\n",
      "\u001b[0;31mNameError\u001b[0m: name 'precip_var_ratio_season' is not defined"
     ]
    }
   ],
   "source": [
    "#tsff = np.convolve(ts.data, wgts_high, mode='same') - np.convolve(ts.data, wgts_low, mode='same')\n",
    "summer_var, summer_filt_var = precip_var_ratio_season(precip_cube, precip_cube_filt, season_months = [5,6,7,8, 9, 10])\n",
    "winter_var, winter_filt_var = precip_var_ratio_season(precip_cube, precip_cube_filt, season_months = [1,2,3,4,11,12])"
   ]
  },
  {
   "cell_type": "code",
   "execution_count": 232,
   "metadata": {},
   "outputs": [],
   "source": [
    "def plot_variance_ratio(runid='obs'):\n",
    "    # Out Plot Directory\n",
    "    out_plot_dir = '/project/MJO_GCSS/hadgem3/data/SEAPy_output/obs'\n",
    "    #os.path.join(data_paths.dirs('data_out_dir'), runid)\n",
    "    precip_mean = iris.load_cube(os.path.join(out_plot_dir, 'obs_MJJAS_precipitation_flux_mean.nc'))\n",
    "    \n",
    "    plt.figure()\n",
    "    ax = plt.axes(projection=ccrs.PlateCarree())\n",
    "    levels = np.arange(4, 44, 4)\n",
    "    cmap = plt.get_cmap('GnBu')\n",
    "    norm = BoundaryNorm(levels, ncolors=cmap.N, clip=True)\n",
    "    cf = iplt.pcolormesh(precip_mean, cmap=cmap, norm=norm)\n",
    "    plt.gca().coastlines()\n",
    "    plt.colorbar(cf, orientation='vertical')\n",
    "    plt.ylim([-10, 25])\n",
    "    plt.xlim([90, 130])\n",
    "    gl = ax.gridlines(draw_labels=True, alpha=0.5)\n",
    "    gl.xlabels_top = False\n",
    "    gl.ylabels_right = False\n",
    "    plt.show()\n",
    "    "
   ]
  },
  {
   "cell_type": "code",
   "execution_count": 233,
   "metadata": {},
   "outputs": [
    {
     "name": "stderr",
     "output_type": "stream",
     "text": [
      "/opt/scitools/environments/default/2020_10_12/lib/python3.6/site-packages/iris/coords.py:1193: UserWarning: Coordinate 'longitude' is not bounded, guessing contiguous bounds.\n",
      "  'contiguous bounds.'.format(self.name()))\n",
      "/opt/scitools/environments/default/2020_10_12/lib/python3.6/site-packages/iris/coords.py:1193: UserWarning: Coordinate 'latitude' is not bounded, guessing contiguous bounds.\n",
      "  'contiguous bounds.'.format(self.name()))\n"
     ]
    }
   ],
   "source": [
    "plot_variance_ratio()"
   ]
  },
  {
   "cell_type": "code",
   "execution_count": 185,
   "metadata": {},
   "outputs": [],
   "source": [
    "#inds = cube_dates_df.loc[(cube_dates_df['month'].isin([5,6,7,8, 9, 10, 11, 12])) & (cube_dates_df['year'] ==2002)].index"
   ]
  },
  {
   "cell_type": "code",
   "execution_count": 19,
   "metadata": {},
   "outputs": [
    {
     "name": "stderr",
     "output_type": "stream",
     "text": [
      "/opt/scitools/environments/default/2020_10_12/lib/python3.6/site-packages/iris/cube.py:3218: UserWarning: Collapsing spatial coordinate 'latitude' without weighting\n",
      "  warnings.warn(msg.format(coord.name()))\n",
      "/opt/scitools/environments/default/2020_10_12/lib/python3.6/site-packages/iris/coords.py:1410: UserWarning: Collapsing a non-contiguous coordinate. Metadata may not be fully descriptive for 'latitude'.\n",
      "  warnings.warn(msg.format(self.name()))\n",
      "/opt/scitools/environments/default/2020_10_12/lib/python3.6/site-packages/iris/coords.py:1410: UserWarning: Collapsing a non-contiguous coordinate. Metadata may not be fully descriptive for 'longitude'.\n",
      "  warnings.warn(msg.format(self.name()))\n"
     ]
    }
   ],
   "source": [
    "area_ts = precip_cube_filt.intersection(longitude=(100, 105), latitude=(5,10))\n",
    "area_ts = area_ts.collapsed( ('latitude', 'longitude'), iris.analysis.MEAN)"
   ]
  },
  {
   "cell_type": "code",
   "execution_count": 20,
   "metadata": {},
   "outputs": [],
   "source": [
    "#qplt.plot(area_ts)\n",
    "ts_std = (area_ts.data - np.ma.mean(area_ts.data))/np.ma.std(area_ts.data)\n",
    "\n",
    "# Find peaks above 1 stdev\n",
    "peaks, _ = find_peaks(ts_std, height=0.75)"
   ]
  },
  {
   "cell_type": "code",
   "execution_count": 21,
   "metadata": {},
   "outputs": [],
   "source": [
    "# all summer seasons\n",
    "season_months = [5,6,7,8, 9, 10]\n",
    "season_df = precip_cube_dates_df.loc[(precip_cube_dates_df['month'].isin(season_months))]\n",
    "\n",
    "# select peaks in summer alone\n",
    "peaks_df = precip_cube_dates_df.loc[peaks]\n",
    "peaks_df = peaks_df.loc[(peaks_df['month'].isin(season_months))]\n",
    "#peaks_df"
   ]
  },
  {
   "cell_type": "code",
   "execution_count": 330,
   "metadata": {},
   "outputs": [],
   "source": [
    "def make_dates_from_df(df):\n",
    "    return [year*10000+month*100+day for year, month, day in zip(df.year, df.month, df.day)]"
   ]
  },
  {
   "cell_type": "code",
   "execution_count": 333,
   "metadata": {},
   "outputs": [],
   "source": [
    "peaks_dates = make_dates_from_df(peaks_df)\n",
    "precip_dates = make_dates_from_df(precip_cube_dates_df)\n",
    "u850_dates = make_dates_from_df(u850_cube_dates_df)\n",
    "v850_dates = make_dates_from_df(v850_cube_dates_df)\n",
    "\n",
    "precip_matching_inds = return_indices_of_a(precip_dates, peaks_dates)\n",
    "u850_matching_inds = return_indices_of_a(u850_dates, peaks_dates)\n",
    "v850_matching_inds = return_indices_of_a(v850_dates, peaks_dates)"
   ]
  },
  {
   "cell_type": "code",
   "execution_count": 341,
   "metadata": {},
   "outputs": [
    {
     "data": {
      "text/plain": [
       "(7305, 6209, 5479)"
      ]
     },
     "execution_count": 341,
     "metadata": {},
     "output_type": "execute_result"
    }
   ],
   "source": [
    "len(u850_dates), len(v850_dates), len(precip_dates)"
   ]
  },
  {
   "cell_type": "code",
   "execution_count": 335,
   "metadata": {},
   "outputs": [
    {
     "name": "stdout",
     "output_type": "stream",
     "text": [
      "57 41 57\n"
     ]
    }
   ],
   "source": [
    "print(len([precip_dates[idx] for idx in precip_matching_inds]), \n",
    "      len([u850_dates[idx] for idx in u850_matching_inds]), \n",
    "      len([v850_dates[idx] for idx in v850_matching_inds]))"
   ]
  },
  {
   "cell_type": "code",
   "execution_count": 195,
   "metadata": {},
   "outputs": [],
   "source": [
    "precip_comp = make_composite(precip_cube, precip_matching_inds, lag=25)\n",
    "precip_comp_filt = make_composite(precip_cube_filt, precip_matching_inds, lag=25)"
   ]
  },
  {
   "cell_type": "code",
   "execution_count": 211,
   "metadata": {},
   "outputs": [],
   "source": [
    "u850_comp = make_composite(u850_cube, u850_matching_inds, lag=25)\n",
    "u850_comp_filt = make_composite(u850_cube_filt, u850_matching_inds, lag=25)\n",
    "v850_comp = make_composite(v850_cube, v850_matching_inds, lag=25)\n",
    "v850_comp_filt = make_composite(v850_cube_filt, v850_matching_inds, lag=25)"
   ]
  },
  {
   "cell_type": "code",
   "execution_count": 38,
   "metadata": {},
   "outputs": [],
   "source": [
    "precip_comp = iris.load_cube('/project/MJO_GCSS/hadgem3/data/SEAPy_output/obs/obs_MJJAS_ISO_lead_lag_precipitation_flux_composite.nc')\n",
    "precip_comp_filt = iris.load_cube('/project/MJO_GCSS/hadgem3/data/SEAPy_output/obs/obs_MJJAS_ISO_lead_lag_precipitation_flux_filt_composite.nc')\n",
    "u850_comp = iris.load_cube('/project/MJO_GCSS/hadgem3/data/SEAPy_output/obs/obs_MJJAS_ISO_lead_lag_x_wind_850_composite.nc')\n",
    "u850_comp_filt = iris.load_cube('/project/MJO_GCSS/hadgem3/data/SEAPy_output/obs/obs_MJJAS_ISO_lead_lag_x_wind_850_filt_composite.nc')\n",
    "v850_comp = iris.load_cube('/project/MJO_GCSS/hadgem3/data/SEAPy_output/obs/obs_MJJAS_ISO_lead_lag_y_wind_850_composite.nc')\n",
    "v850_comp_filt = iris.load_cube('/project/MJO_GCSS/hadgem3/data/SEAPy_output/obs/obs_MJJAS_ISO_lead_lag_y_wind_850_filt_composite.nc')\n",
    "\n",
    "sst_comp = iris.load_cube('/project/MJO_GCSS/hadgem3/data/SEAPy_output/obs/obs_MJJAS_ISO_lead_lag_sst_composite.nc')\n",
    "sst_comp_filt = iris.load_cube('/project/MJO_GCSS/hadgem3/data/SEAPy_output/obs/obs_MJJAS_ISO_lead_lag_sst_filt_composite.nc')\n",
    "\n",
    "vort850_comp = iris.load_cube('/project/MJO_GCSS/hadgem3/data/SEAPy_output/obs/obs_MJJAS_ISO_lead_lag_vorticity_850_composite.nc')\n",
    "vort850_comp_filt = iris.load_cube('/project/MJO_GCSS/hadgem3/data/SEAPy_output/obs/obs_MJJAS_ISO_lead_lag_vorticity_850_filt_composite.nc')\n",
    "\n",
    "div850_comp = iris.load_cube('/project/MJO_GCSS/hadgem3/data/SEAPy_output/obs/obs_MJJAS_ISO_lead_lag_divergence_850_composite.nc')\n",
    "div850_comp_filt = iris.load_cube('/project/MJO_GCSS/hadgem3/data/SEAPy_output/obs/obs_MJJAS_ISO_lead_lag_divergence_850_filt_composite.nc')"
   ]
  },
  {
   "cell_type": "code",
   "execution_count": null,
   "metadata": {},
   "outputs": [],
   "source": []
  },
  {
   "cell_type": "code",
   "execution_count": 39,
   "metadata": {},
   "outputs": [
    {
     "name": "stderr",
     "output_type": "stream",
     "text": [
      "/opt/scitools/environments/default/2020_10_12/lib/python3.6/site-packages/iris/coords.py:1410: UserWarning: Collapsing a non-contiguous coordinate. Metadata may not be fully descriptive for 'longitude'.\n",
      "  warnings.warn(msg.format(self.name()))\n",
      "/opt/scitools/environments/default/2020_10_12/lib/python3.6/site-packages/iris/coords.py:1410: UserWarning: Collapsing a non-contiguous coordinate. Metadata may not be fully descriptive for 'longitude'.\n",
      "  warnings.warn(msg.format(self.name()))\n",
      "/opt/scitools/environments/default/2020_10_12/lib/python3.6/site-packages/iris/coords.py:1410: UserWarning: Collapsing a non-contiguous coordinate. Metadata may not be fully descriptive for 'longitude'.\n",
      "  warnings.warn(msg.format(self.name()))\n",
      "/opt/scitools/environments/default/2020_10_12/lib/python3.6/site-packages/iris/coords.py:1410: UserWarning: Collapsing a non-contiguous coordinate. Metadata may not be fully descriptive for 'longitude'.\n",
      "  warnings.warn(msg.format(self.name()))\n",
      "/opt/scitools/environments/default/2020_10_12/lib/python3.6/site-packages/iris/coords.py:1410: UserWarning: Collapsing a non-contiguous coordinate. Metadata may not be fully descriptive for 'longitude'.\n",
      "  warnings.warn(msg.format(self.name()))\n",
      "/opt/scitools/environments/default/2020_10_12/lib/python3.6/site-packages/iris/coords.py:1410: UserWarning: Collapsing a non-contiguous coordinate. Metadata may not be fully descriptive for 'longitude'.\n",
      "  warnings.warn(msg.format(self.name()))\n",
      "/opt/scitools/environments/default/2020_10_12/lib/python3.6/site-packages/iris/coords.py:1410: UserWarning: Collapsing a non-contiguous coordinate. Metadata may not be fully descriptive for 'longitude'.\n",
      "  warnings.warn(msg.format(self.name()))\n",
      "/opt/scitools/environments/default/2020_10_12/lib/python3.6/site-packages/iris/coords.py:1410: UserWarning: Collapsing a non-contiguous coordinate. Metadata may not be fully descriptive for 'longitude'.\n",
      "  warnings.warn(msg.format(self.name()))\n",
      "/opt/scitools/environments/default/2020_10_12/lib/python3.6/site-packages/iris/coords.py:1410: UserWarning: Collapsing a non-contiguous coordinate. Metadata may not be fully descriptive for 'longitude'.\n",
      "  warnings.warn(msg.format(self.name()))\n",
      "/opt/scitools/environments/default/2020_10_12/lib/python3.6/site-packages/iris/coords.py:1410: UserWarning: Collapsing a non-contiguous coordinate. Metadata may not be fully descriptive for 'longitude'.\n",
      "  warnings.warn(msg.format(self.name()))\n",
      "/opt/scitools/environments/default/2020_10_12/lib/python3.6/site-packages/iris/coords.py:1410: UserWarning: Collapsing a non-contiguous coordinate. Metadata may not be fully descriptive for 'longitude'.\n",
      "  warnings.warn(msg.format(self.name()))\n",
      "/opt/scitools/environments/default/2020_10_12/lib/python3.6/site-packages/iris/coords.py:1410: UserWarning: Collapsing a non-contiguous coordinate. Metadata may not be fully descriptive for 'longitude'.\n",
      "  warnings.warn(msg.format(self.name()))\n"
     ]
    }
   ],
   "source": [
    "precip_comp_hov = precip_comp.intersection(longitude=(100, 120), latitude=(-10,25)).collapsed('longitude', iris.analysis.MEAN)\n",
    "precip_comp_filt_hov = precip_comp_filt.intersection(longitude=(100, 120), latitude=(-10,25)).collapsed('longitude', iris.analysis.MEAN)\n",
    "\n",
    "u850_comp_hov = u850_comp.intersection(longitude=(100, 120), latitude=(-10,25)).collapsed('longitude', iris.analysis.MEAN)\n",
    "u850_comp_filt_hov = u850_comp_filt.intersection(longitude=(100, 120), latitude=(-10,25)).collapsed('longitude', iris.analysis.MEAN)\n",
    "\n",
    "v850_comp_hov = v850_comp.intersection(longitude=(100, 120), latitude=(-10,25)).collapsed('longitude', iris.analysis.MEAN)\n",
    "v850_comp_filt_hov = v850_comp_filt.intersection(longitude=(100, 120), latitude=(-10,25)).collapsed('longitude', iris.analysis.MEAN)\n",
    "\n",
    "sst_comp_hov = sst_comp.intersection(longitude=(100, 120), latitude=(-10,25)).collapsed('longitude', iris.analysis.MEAN)\n",
    "sst_comp_filt_hov = sst_comp_filt.intersection(longitude=(100, 120), latitude=(-10,25)).collapsed('longitude', iris.analysis.MEAN)\n",
    "\n",
    "vort850_comp_hov = vort850_comp.intersection(longitude=(100, 120), latitude=(-10,25)).collapsed('longitude', iris.analysis.MEAN)\n",
    "vort850_comp_filt_hov = vort850_comp_filt.intersection(longitude=(100, 120), latitude=(-10,25)).collapsed('longitude', iris.analysis.MEAN)\n",
    "\n",
    "div850_comp_hov = div850_comp.intersection(longitude=(100, 120), latitude=(-10,25)).collapsed('longitude', iris.analysis.MEAN)\n",
    "div850_comp_filt_hov = div850_comp_filt.intersection(longitude=(100, 120), latitude=(-10,25)).collapsed('longitude', iris.analysis.MEAN)"
   ]
  },
  {
   "cell_type": "code",
   "execution_count": 40,
   "metadata": {},
   "outputs": [],
   "source": [
    "ntime, nlat = div850_comp_filt_hov.shape"
   ]
  },
  {
   "cell_type": "code",
   "execution_count": 41,
   "metadata": {},
   "outputs": [
    {
     "data": {
      "text/plain": [
       "25"
      ]
     },
     "execution_count": 41,
     "metadata": {},
     "output_type": "execute_result"
    }
   ],
   "source": [
    "lag = int(ntime/2)\n",
    "lag"
   ]
  },
  {
   "cell_type": "code",
   "execution_count": 42,
   "metadata": {},
   "outputs": [
    {
     "data": {
      "text/plain": [
       "Text(0.5, 1.0, 'Precip., 850hPa divergence (*1e5) [95-110E]')"
      ]
     },
     "execution_count": 42,
     "metadata": {},
     "output_type": "execute_result"
    }
   ],
   "source": [
    "fig = plt.figure(1, figsize=(12, 7), dpi=100)\n",
    "\n",
    "plt.subplot(121)\n",
    "times = np.arange(-lag, lag+1, 1)\n",
    "lats = precip_comp_filt_hov.coord('latitude').points\n",
    "T, L = np.meshgrid(times, lats)\n",
    "CS = plt.contourf(T, L, precip_comp_filt_hov.data.T, levels=np.linspace(-10, 10, 11), cmap='RdBu', extend='both')\n",
    "plt.colorbar(CS)\n",
    "\n",
    "lats = vort850_comp_filt_hov.coord('latitude').points\n",
    "T, L = np.meshgrid(times, lats)\n",
    "CS1 = plt.contour(T, L, vort850_comp_filt_hov.data.T*1e5, levels=np.linspace(-5, 5, 11), colors='k')\n",
    "plt.gca().clabel(CS1, inline=True, fontsize=10, fmt='%1.1f')\n",
    "plt.contour(T, L, vort850_comp_filt_hov.data.T*1e5, levels=[0], colors='k', linewidths=[3])\n",
    "\n",
    "plt.ylabel('Latitude')\n",
    "plt.xlabel('Lead/Lag (days)')\n",
    "plt.title('Precip., 850hPa vorticity (*1e5) [95-110E]')\n",
    "\n",
    "plt.subplot(122)\n",
    "times = np.arange(-lag, lag+1, 1)\n",
    "lats = precip_comp_filt_hov.coord('latitude').points\n",
    "T, L = np.meshgrid(times, lats)\n",
    "CS = plt.contourf(T, L, precip_comp_filt_hov.data.T, levels=np.linspace(-10, 10, 11), cmap='RdBu', extend='both')\n",
    "plt.colorbar(CS)\n",
    "\n",
    "lats = div850_comp_filt_hov.coord('latitude').points\n",
    "T, L = np.meshgrid(times, lats)\n",
    "CS1 = plt.contour(T, L, div850_comp_filt_hov.data.T*1e5, levels=np.linspace(-1, 1, 11), colors='k')\n",
    "plt.gca().clabel(CS1, inline=True, fontsize=10, fmt='%1.1f')\n",
    "plt.contour(T, L, div850_comp_filt_hov.data.T*1e5, levels=[0], colors='k', linewidths=[3])\n",
    "\n",
    "plt.ylabel('Latitude')\n",
    "plt.xlabel('Lead/Lag (days)')\n",
    "plt.title('Precip., 850hPa divergence (*1e5) [95-110E]')"
   ]
  },
  {
   "cell_type": "code",
   "execution_count": 43,
   "metadata": {},
   "outputs": [
    {
     "data": {
      "text/plain": [
       "\"\\n#plt.contourf(precip_comp_hov.data, \\n#qplt.contour(u850_comp_filt_hov, levels=np.linspace(-5, 5, 11), colors='k')\\nt = times\\ny = u850_comp_filt_hov.coord('latitude').points\\n\\nprint(u850_comp_hov.shape, v850_comp_hov.shape, t.shape)\\nu = u850_comp_filt_hov.data.T\\nv = v850_comp_filt_hov.data.T\\nspeed = np.sqrt(u**2+v**2)\\nlw = speed  # an adhoc scaling for plotting\\n\\n\\n# Bounds for streamplot\\nbounds = np.arange(0, 4, 1)\\nnorm = colors.BoundaryNorm(boundaries=bounds, ncolors=256)\\ncl = plt.gca().streamplot(t, y, u, v, density=(2., 1.5), maxlength=1, cmap='GnBu',  norm=norm, color=speed, linewidth=lw)\\n#plt.gca().quiver(t, y, u, v, cmap='GnBu', alpha=0.5)\\nplt.ylabel('Latitude')\\nplt.xlabel('Lead/Lag (days)')\\nplt.title('Filtered precip., 850hPa winds [95-110E]')\\n\""
      ]
     },
     "execution_count": 43,
     "metadata": {},
     "output_type": "execute_result"
    }
   ],
   "source": [
    "\n",
    "#times = precip_comp_hov.coord('time').points\n",
    "#\n",
    "lag = 25\n",
    "fig = plt.figure(2, figsize=(12, 7), dpi=100)\n",
    "plt.subplot(121)\n",
    "times = np.arange(-lag, lag+1, 1)\n",
    "lats = precip_comp_hov.coord('latitude').points\n",
    "T, L = np.meshgrid(times, lats)\n",
    "CS = plt.contourf(T, L, precip_comp_hov.data.T, levels=np.linspace(5, 40, 11), cmap='YlGnBu', extend='max')\n",
    "plt.colorbar(CS)\n",
    "#qplt.contour(u850_comp_filt_hov, levels=np.linspace(-5, 5, 11), colors='k')\n",
    "t = times\n",
    "y = u850_comp_hov.coord('latitude').points\n",
    "\n",
    "u = u850_comp_hov.data.T\n",
    "v = v850_comp_hov.data.T\n",
    "speed = np.sqrt(u**2+v**2)\n",
    "lw = speed/5  # an adhoc scaling for plotting\n",
    "\n",
    "# Bounds for streamplot\n",
    "bounds = np.arange(0, 4, 1)\n",
    "norm = colors.BoundaryNorm(boundaries=bounds, ncolors=256)\n",
    "cl = plt.gca().streamplot(t, y, u, v, density=(2., 1.5), maxlength=1, cmap='GnBu',  norm=norm, color=speed, linewidth=lw)\n",
    "#plt.gca().quiver(t, y, u, v, cmap='GnBu', alpha=0.5) \n",
    "plt.ylim([-10, 25])\n",
    "plt.ylabel('Latitude')\n",
    "plt.xlabel('Lead/Lag (days)')\n",
    "plt.title('Precip., 850hPa winds [95-110E]')\n",
    "\n",
    "plt.subplot(122)\n",
    "lats = precip_comp_filt_hov.coord('latitude').points\n",
    "T, L = np.meshgrid(times, lats)\n",
    "CS = plt.contourf(T, L, precip_comp_filt_hov.data.T, levels=np.linspace(-10, 10, 11), cmap='RdBu', extend='max')\n",
    "plt.colorbar(CS)\n",
    "\n",
    "lats = sst_comp_filt_hov.coord('latitude').points\n",
    "T, L = np.meshgrid(times, lats)\n",
    "csc = plt.contour(T, L, sst_comp_filt_hov.data.T, levels=np.arange(-0.3, 0.4, 0.05), colors='k')\n",
    "plt.gca().clabel(csc, inline=True, fontsize=10, fmt='%1.1f')\n",
    "plt.contour(T, L, sst_comp_filt_hov.data.T, levels=[0], colors='k', linewidths=[3])\n",
    "plt.ylim([-10, 25])\n",
    "plt.ylabel('Latitude')\n",
    "plt.xlabel('Lead/Lag (days)')\n",
    "plt.title('Filtered precip., SST [95-110E]')\n",
    "\n",
    "\n",
    "'''\n",
    "#plt.contourf(precip_comp_hov.data, \n",
    "#qplt.contour(u850_comp_filt_hov, levels=np.linspace(-5, 5, 11), colors='k')\n",
    "t = times\n",
    "y = u850_comp_filt_hov.coord('latitude').points\n",
    "\n",
    "print(u850_comp_hov.shape, v850_comp_hov.shape, t.shape)\n",
    "u = u850_comp_filt_hov.data.T\n",
    "v = v850_comp_filt_hov.data.T\n",
    "speed = np.sqrt(u**2+v**2)\n",
    "lw = speed  # an adhoc scaling for plotting\n",
    "\n",
    "\n",
    "# Bounds for streamplot\n",
    "bounds = np.arange(0, 4, 1)\n",
    "norm = colors.BoundaryNorm(boundaries=bounds, ncolors=256)\n",
    "cl = plt.gca().streamplot(t, y, u, v, density=(2., 1.5), maxlength=1, cmap='GnBu',  norm=norm, color=speed, linewidth=lw)\n",
    "#plt.gca().quiver(t, y, u, v, cmap='GnBu', alpha=0.5)\n",
    "plt.ylabel('Latitude')\n",
    "plt.xlabel('Lead/Lag (days)')\n",
    "plt.title('Filtered precip., 850hPa winds [95-110E]')\n",
    "'''"
   ]
  },
  {
   "cell_type": "code",
   "execution_count": 245,
   "metadata": {},
   "outputs": [
    {
     "data": {
      "text/plain": [
       "array([-0.3, -0.2, -0.1,  0. ,  0.1,  0.2,  0.3])"
      ]
     },
     "execution_count": 245,
     "metadata": {},
     "output_type": "execute_result"
    }
   ],
   "source": [
    "np.linspace(-0.3, 0.3, 7)"
   ]
  },
  {
   "cell_type": "code",
   "execution_count": 306,
   "metadata": {},
   "outputs": [],
   "source": [
    "l = 25\n",
    "plt.subplot(111)\n",
    "qplt.contourf(precip_comp_filt[l], levels=np.linspace(-10, 10, 11), cmap='RdBu', extend='both')\n",
    "plt.gca().coastlines()\n",
    "\n",
    "x = u850_comp.coord('longitude').points\n",
    "y = u850_comp.coord('latitude').points\n",
    "\n",
    "speed = np.sqrt(u850_comp_filt[l].data**2+v850_comp_filt[l].data**2)\n",
    "lw = speed  # an adhoc scaling for plotting\n",
    "\n",
    "u = u850_comp_filt[l].data\n",
    "v = v850_comp_filt[l].data\n",
    "plt.quiver(x, y, u, v) \n",
    "# Bounds for streamplot\n",
    "bounds = np.arange(2, 22, 2)\n",
    "norm = colors.BoundaryNorm(boundaries=bounds, ncolors=256)\n",
    "#cl = plt.gca().streamplot(x, y, u, v, density=(2., 1.5), maxlength=2)#, norm=norm, cmap='GnBu',  color=speed, linewidth=lw)"
   ]
  },
  {
   "cell_type": "code",
   "execution_count": 176,
   "metadata": {},
   "outputs": [
    {
     "data": {
      "text/plain": [
       "((51, 36, 41), (51, 36, 41))"
      ]
     },
     "execution_count": 176,
     "metadata": {},
     "output_type": "execute_result"
    }
   ],
   "source": [
    "u850_comp_filt.shape, v850_comp_filt.shape"
   ]
  },
  {
   "cell_type": "code",
   "execution_count": 295,
   "metadata": {},
   "outputs": [],
   "source": [
    "def create_dates_df(cube):\n",
    "    cube = prepare_calendar(cube)\n",
    "    cube_dates_df = pd.concat([pd.DataFrame(cube.coord('year').points),\n",
    "                          pd.DataFrame(cube.coord('month_number').points),\n",
    "                          pd.DataFrame(cube.coord('day_of_month').points)], axis=1)\n",
    "    cube_dates_df.columns = ['year', 'month', 'day']\n",
    "    return cube_dates_df"
   ]
  },
  {
   "cell_type": "code",
   "execution_count": 303,
   "metadata": {},
   "outputs": [],
   "source": [
    "def return_indices_of_adf(adf, bdf):\n",
    "    a = [year*10000+month*100+day for year, month, day in zip(adf.year, adf.month, adf.day)]\n",
    "    b = [year*10000+month*100+day for year, month, day in zip(bdf.year, bdf.month, bdf.day)]\n",
    "    \n",
    "    b_set = set(b)\n",
    "    return [int(i) for i, v in enumerate(a) if v in b_set]\n",
    "    "
   ]
  },
  {
   "cell_type": "code",
   "execution_count": 311,
   "metadata": {},
   "outputs": [],
   "source": [
    "def compute_percentiles(cube, indices, percent=95):\n",
    "    # compute percentiles\n",
    "    percentiles = cube[indices].collapsed('time', iris.analysis.PERCENTILE, percent=percent)\n",
    "    return percentiles"
   ]
  },
  {
   "cell_type": "code",
   "execution_count": 312,
   "metadata": {},
   "outputs": [],
   "source": [
    "def bsiso_percentiles(runid=None, varname=None, write_out=True, percent=[95]):\n",
    "    #data_root = os.path.join(run['data_retrieve_dir'], runid)\n",
    "    data_root = '/project/MJO_GCSS/hadgem3/data/obs/SEAPy_data/obs'\n",
    "    # Out Plot Directory\n",
    "    #out_plot_dir = os.path.join(data_paths.dirs('data_out_dir'), runid)\n",
    "    out_plot_dir = '/project/MJO_GCSS/hadgem3/data/SEAPy_output/obs'\n",
    "\n",
    "    # CSV file with dates of peak ISO phases\n",
    "    bsiso_peak_dates_file = os.path.join(out_plot_dir, '%s_BSISO_peak_dates.csv' % runid)\n",
    "    season_dates_file = os.path.join(out_plot_dir, '%s_MJJAS_season_dates.csv' % runid)\n",
    "    \n",
    "    file_name = os.path.join(data_root, 'GPM_PRECIP_SEA_24h_mean_2000_2020.nc')\n",
    "    cube = iris.load_cube(file_name)\n",
    "    \n",
    "    peaks_dates_df = pd.read_csv(bsiso_peak_dates_file)\n",
    "    season_dates_df = pd.read_csv(season_dates_file)\n",
    "    \n",
    "    #cube_dates_df = bsiso_utils.create_dates_df(cube)\n",
    "    cube_dates_df = create_dates_df(cube)\n",
    "    \n",
    "    season_inds = return_indices_of_adf(cube_dates_df, season_dates_df) \n",
    "    peak_inds = return_indices_of_adf(cube_dates_df, peaks_dates_df) \n",
    "    \n",
    "    for per in percent:\n",
    "        peak_extreme_cube = compute_percentiles(cube, peak_inds, percent=per)\n",
    "        season_extreme_cube = compute_percentiles(cube, season_inds, percent=per)\n",
    "\n",
    "        #out_plot_dir = os.path.join(data_paths.dirs('data_out_dir'), runid)\n",
    "        writeout_file = os.path.join(out_plot_dir,\n",
    "                                     '%s_MJJAS_%s_ISO_peak_percentile_%s.nc' % (runid, varname, per))\n",
    "        iris.save(peak_extreme_cube, writeout_file)\n",
    "        print('Written %s' % writeout_file)\n",
    "        \n",
    "        writeout_file = os.path.join(out_plot_dir,\n",
    "                                     '%s_MJJAS_%s_seasonal_percentile_%s.nc' % (runid, varname, per))\n",
    "        iris.save(season_extreme_cube, writeout_file)\n",
    "        print('Written %s' % writeout_file)\n",
    "        \n",
    "        "
   ]
  },
  {
   "cell_type": "code",
   "execution_count": 14,
   "metadata": {},
   "outputs": [],
   "source": [
    "out_plot_dir = '/project/MJO_GCSS/hadgem3/data/SEAPy_output/obs'\n",
    "\n",
    "# CSV file with dates of peak ISO phases\n",
    "bsiso_peak_dates_file = os.path.join(out_plot_dir, '%s_BSISO_peak_dates.csv' % 'obs')\n",
    "peaks_dates_df = pd.read_csv(bsiso_peak_dates_file)"
   ]
  },
  {
   "cell_type": "code",
   "execution_count": 28,
   "metadata": {},
   "outputs": [],
   "source": [
    "days_around_peak = 3\n",
    "inds  = np.arange(10)\n",
    "inds_around_peak = []\n",
    "for ind in inds:\n",
    "    inds_around_peak.extend(list(np.arange(ind-days_around_peak,ind+days_around_peak)))\n",
    "    inds_around_peak = [item for item in inds_around_peak if item >= 0]"
   ]
  },
  {
   "cell_type": "code",
   "execution_count": 44,
   "metadata": {},
   "outputs": [],
   "source": [
    "peak_extreme_file = '/project/MJO_GCSS/hadgem3/data/SEAPy_output/obs/obs_MJJAS_precipitation_flux_ISO_peak_95th_percentile.nc'\n",
    "peak_extreme = iris.load_cube(peak_extreme_file)\n",
    "seasonl_extreme_file = '/project/MJO_GCSS/hadgem3/data/SEAPy_output/obs/obs_MJJAS_precipitation_flux_seasonal_95th_percentile.nc'\n",
    "season_extreme = iris.load_cube(seasonl_extreme_file)"
   ]
  },
  {
   "cell_type": "code",
   "execution_count": 47,
   "metadata": {},
   "outputs": [
    {
     "name": "stderr",
     "output_type": "stream",
     "text": [
      "/opt/scitools/environments/default/2020_10_12/lib/python3.6/site-packages/iris/coords.py:1193: UserWarning: Coordinate 'longitude' is not bounded, guessing contiguous bounds.\n",
      "  'contiguous bounds.'.format(self.name()))\n",
      "/opt/scitools/environments/default/2020_10_12/lib/python3.6/site-packages/iris/coords.py:1193: UserWarning: Coordinate 'latitude' is not bounded, guessing contiguous bounds.\n",
      "  'contiguous bounds.'.format(self.name()))\n"
     ]
    }
   ],
   "source": [
    "plt.figure()\n",
    "ax = plt.axes(projection=ccrs.PlateCarree())\n",
    "levels = np.arange(-50, 60, 10)\n",
    "#levels = np.arange(0, 100, 10)\n",
    "cmap = plt.get_cmap('RdBu')\n",
    "norm = BoundaryNorm(levels, ncolors=cmap.N, clip=True)\n",
    "cf = iplt.pcolormesh(100*(peak_extreme-season_extreme)/season_extreme, cmap=cmap, norm=norm)\n",
    "#cf = iplt.pcolormesh(season_extreme, cmap=cmap, norm=norm)\n",
    "plt.gca().coastlines()\n",
    "plt.colorbar(cf, orientation='vertical')\n",
    "plt.ylim([-10, 25])\n",
    "plt.xlim([90, 130])\n",
    "gl = ax.gridlines(draw_labels=True, alpha=0.5)\n",
    "gl.xlabels_top = False\n",
    "gl.ylabels_right = False\n",
    "plt.show()"
   ]
  },
  {
   "cell_type": "code",
   "execution_count": 209,
   "metadata": {},
   "outputs": [
    {
     "name": "stdout",
     "output_type": "stream",
     "text": [
      "[1 2 -- 4]\n"
     ]
    }
   ],
   "source": [
    "x = np.array([1,2,3,4])\n",
    "y = np.array([2,1,5,2])\n",
    "m = np.ma.masked_where(y>2, y)\n",
    "new_x = np.ma.masked_array(x, m.mask)\n",
    "print(new_x)"
   ]
  },
  {
   "cell_type": "code",
   "execution_count": 151,
   "metadata": {},
   "outputs": [
    {
     "name": "stderr",
     "output_type": "stream",
     "text": [
      "100%|██████████| 10/10 [00:00<00:00, 10567.66it/s]"
     ]
    },
    {
     "name": "stdout",
     "output_type": "stream",
     "text": [
      "0\n",
      "1\n",
      "2\n",
      "3\n",
      "4\n",
      "5\n",
      "6\n",
      "7\n",
      "8\n",
      "9\n"
     ]
    },
    {
     "name": "stderr",
     "output_type": "stream",
     "text": [
      "\n"
     ]
    }
   ],
   "source": [
    "from tqdm import tqdm\n",
    "inds = range(10)\n",
    "inds\n",
    "for i in tqdm():\n",
    "    print(i)"
   ]
  },
  {
   "cell_type": "code",
   "execution_count": 248,
   "metadata": {},
   "outputs": [
    {
     "data": {
      "text/plain": [
       "<matplotlib.contour.QuadContourSet at 0x7f75ee0166a0>"
      ]
     },
     "execution_count": 248,
     "metadata": {},
     "output_type": "execute_result"
    }
   ],
   "source": [
    "cube_hov = precip_cube.intersection(longitude=(95, 110), latitude=(-10,25))\n",
    "cube_hov = cube_hov.collapsed('longitude', iris.analysis.MEAN)\n",
    "\n",
    "cube_hov_filt = precip_cube_filt.intersection(longitude=(95, 110), latitude=(-10, 25))\n",
    "cube_hov_filt = cube_hov_filt.collapsed('longitude', iris.analysis.MEAN)\n",
    "\n",
    "#cube_hov = precip_cube_filt[inds].intersection(longitude=(90, 180), latitude=(0,10))\n",
    "#cube_hov = cube_hov.collapsed('latitude', iris.analysis.MEAN)\n",
    "qplt.contourf(cube_hov, levels=np.linspace(0, 20, 11), cmap='YlGnBu')\n",
    "qplt.contour(cube_hov_filt, levels=np.linspace(0, 10, 11))#, cmap='Rd')"
   ]
  },
  {
   "cell_type": "code",
   "execution_count": 480,
   "metadata": {},
   "outputs": [
    {
     "name": "stderr",
     "output_type": "stream",
     "text": [
      "/opt/scitools/environments/default/2020_10_12/lib/python3.6/site-packages/iris/cube.py:3218: UserWarning: Collapsing spatial coordinate 'latitude' without weighting\n",
      "  warnings.warn(msg.format(coord.name()))\n",
      "/opt/scitools/environments/default/2020_10_12/lib/python3.6/site-packages/iris/coords.py:1410: UserWarning: Collapsing a non-contiguous coordinate. Metadata may not be fully descriptive for 'latitude'.\n",
      "  warnings.warn(msg.format(self.name()))\n"
     ]
    }
   ],
   "source": [
    "u850_dates_df = pd.concat([pd.DataFrame(u850_cube.coord('year').points),\n",
    "                          pd.DataFrame(u850_cube.coord('month_number').points), \n",
    "                          pd.DataFrame(u850_cube.coord('day_of_month').points)], axis=1)\n",
    "u850_dates_df.columns = ['year', 'month', 'day']\n",
    "#inds = cube_dates_df.loc[(cube_dates_df['month'].isin([5,6,7,8, 9, 10, 11, 12])) & (cube_dates_df['year'] ==2002)].index\n",
    "\n",
    "area_ts = u850_cube_filt.intersection(longitude=(100, 105), latitude=(5,10))\n",
    "area_ts = area_ts.collapsed( ('latitude', 'longitude'), iris.analysis.MEAN)\n",
    "\n",
    "#qplt.plot(area_ts)\n",
    "ts_std = (area_ts.data - np.ma.mean(area_ts.data))/np.ma.std(area_ts.data)\n",
    "\n",
    "# Find peaks above 1 stdev\n",
    "peaks, _ = find_peaks(ts_std, height=1.)\n"
   ]
  },
  {
   "cell_type": "code",
   "execution_count": 251,
   "metadata": {},
   "outputs": [
    {
     "ename": "NameError",
     "evalue": "name 'cube_dates_df' is not defined",
     "output_type": "error",
     "traceback": [
      "\u001b[0;31m---------------------------------------------------------------------------\u001b[0m",
      "\u001b[0;31mNameError\u001b[0m                                 Traceback (most recent call last)",
      "\u001b[0;32m<ipython-input-251-8019fc61abe0>\u001b[0m in \u001b[0;36m<module>\u001b[0;34m\u001b[0m\n\u001b[1;32m      1\u001b[0m \u001b[0;31m# all summer seasons\u001b[0m\u001b[0;34m\u001b[0m\u001b[0;34m\u001b[0m\u001b[0;34m\u001b[0m\u001b[0m\n\u001b[1;32m      2\u001b[0m \u001b[0mseason_months\u001b[0m \u001b[0;34m=\u001b[0m \u001b[0;34m[\u001b[0m\u001b[0;36m5\u001b[0m\u001b[0;34m,\u001b[0m\u001b[0;36m6\u001b[0m\u001b[0;34m,\u001b[0m\u001b[0;36m7\u001b[0m\u001b[0;34m,\u001b[0m\u001b[0;36m8\u001b[0m\u001b[0;34m,\u001b[0m \u001b[0;36m9\u001b[0m\u001b[0;34m,\u001b[0m \u001b[0;36m10\u001b[0m\u001b[0;34m]\u001b[0m\u001b[0;34m\u001b[0m\u001b[0;34m\u001b[0m\u001b[0m\n\u001b[0;32m----> 3\u001b[0;31m \u001b[0mseason_df\u001b[0m \u001b[0;34m=\u001b[0m \u001b[0mcube_dates_df\u001b[0m\u001b[0;34m.\u001b[0m\u001b[0mloc\u001b[0m\u001b[0;34m[\u001b[0m\u001b[0;34m(\u001b[0m\u001b[0mcube_dates_df\u001b[0m\u001b[0;34m[\u001b[0m\u001b[0;34m'month'\u001b[0m\u001b[0;34m]\u001b[0m\u001b[0;34m.\u001b[0m\u001b[0misin\u001b[0m\u001b[0;34m(\u001b[0m\u001b[0mseason_months\u001b[0m\u001b[0;34m)\u001b[0m\u001b[0;34m)\u001b[0m\u001b[0;34m]\u001b[0m\u001b[0;34m\u001b[0m\u001b[0;34m\u001b[0m\u001b[0m\n\u001b[0m\u001b[1;32m      4\u001b[0m \u001b[0;34m\u001b[0m\u001b[0m\n\u001b[1;32m      5\u001b[0m \u001b[0;31m# select peaks in summer alone\u001b[0m\u001b[0;34m\u001b[0m\u001b[0;34m\u001b[0m\u001b[0;34m\u001b[0m\u001b[0m\n",
      "\u001b[0;31mNameError\u001b[0m: name 'cube_dates_df' is not defined"
     ]
    }
   ],
   "source": [
    "# all summer seasons\n",
    "season_months = [5,6,7,8, 9, 10]\n",
    "season_df = cube_dates_df.loc[(cube_dates_df['month'].isin(season_months))]\n",
    "\n",
    "# select peaks in summer alone\n",
    "peaks_df = cube_dates_df.loc[peaks]\n",
    "peaks_df = peaks_df.loc[(peaks_df['month'].isin(season_months))]\n",
    "#peaks_df"
   ]
  },
  {
   "cell_type": "code",
   "execution_count": null,
   "metadata": {},
   "outputs": [],
   "source": []
  },
  {
   "cell_type": "code",
   "execution_count": 527,
   "metadata": {},
   "outputs": [],
   "source": [
    "peaks_dates = [year*10000+month*100+day for year, month, day in zip(peaks_df.year, peaks_df.month, peaks_df.day)]\n",
    "precip_dates = [year*10000+month*100+day for year, month, day in zip(precip_cube_dates_df.year, \n",
    "                                                                     precip_cube_dates_df.month, \n",
    "                                                                     precip_cube_dates_df.day)]\n",
    "precip_matching_inds = return_indices_of_a(precip_dates, peaks_dates)"
   ]
  },
  {
   "cell_type": "code",
   "execution_count": 528,
   "metadata": {},
   "outputs": [],
   "source": [
    "u850_comp = make_composite(u850_cube, peaks_df.index, lag=25)\n",
    "u850_comp_filt = make_composite(u850_cube_filt, peaks_df.index, lag=25)\n",
    "\n",
    "precip_comp = make_composite(precip_cube, precip_matching_inds, lag=25)\n",
    "precip_comp_filt = make_composite(precip_cube_filt, precip_matching_inds, lag=25)"
   ]
  },
  {
   "cell_type": "code",
   "execution_count": 486,
   "metadata": {},
   "outputs": [
    {
     "data": {
      "text/plain": [
       "<matplotlib.contour.QuadContourSet at 0x7fa00af48160>"
      ]
     },
     "execution_count": 486,
     "metadata": {},
     "output_type": "execute_result"
    }
   ],
   "source": [
    "cube_hov = u850_comp.intersection(longitude=(95, 110), latitude=(-10,25)).collapsed('longitude', iris.analysis.MEAN)\n",
    "cube_hov_f = u850_comp_filt.intersection(longitude=(95, 110), latitude=(-10,25)).collapsed('longitude', iris.analysis.MEAN)\n",
    "#qplt.contourf(cube_hov, levels=np.linspace(-20, 20, 11), cmap='YlGnBu')\n",
    "qplt.contour(cube_hov_f, levels=np.linspace(-5, 5, 11), cmap='RdBu')"
   ]
  },
  {
   "cell_type": "code",
   "execution_count": null,
   "metadata": {},
   "outputs": [],
   "source": [
    "\n",
    "inds = u850_dates_df.loc[u850_dates_df['month'].isin([5,6,7,8, 9, 10])].index\n",
    "rlats, rlons = get_cube_coords_along_line(u850_cube, start_coords=(-10, 95), end_coords=(22, 120))\n",
    "\n",
    "cube_cross_sect = cross_section_along_path(u850_cube[inds], lons=rlons, lats=rlats)\n",
    "cube_filt_cross_sect = cross_section_along_path(u850_cube_filt[inds], lons=rlons, lats=rlats)\n",
    "cube_cross_sect\n",
    "#cube_hov = u850_cube[inds].intersection(longitude=(95, 110), latitude=(-10,25))\n",
    "#cube_hov = cube_hov.collapsed('longitude', iris.analysis.MEAN)\n",
    "\n",
    "cube_hov_filt = u850_cube_filt[inds].intersection(longitude=(95, 110), latitude=(-10, 25))\n",
    "cube_hov_filt = cube_hov_filt.collapsed('longitude', iris.analysis.MEAN)\n",
    "\n",
    "#cube_hov = precip_cube_filt[inds].intersection(longitude=(90, 180), latitude=(0,10))\n",
    "#cube_hov = cube_hov.collapsed('latitude', iris.analysis.MEAN)\n",
    "qplt.contourf(cube_filt_cross_sect, levels=np.linspace(-20, 20, 11), cmap='RdBu')\n",
    "#qplt.contour(cube_hov_filt, levels=np.linspace(-10, 10, 11), cmap='RdBu')"
   ]
  },
  {
   "cell_type": "code",
   "execution_count": 418,
   "metadata": {},
   "outputs": [
    {
     "name": "stderr",
     "output_type": "stream",
     "text": [
      "/opt/scitools/environments/default/2020_10_12/lib/python3.6/site-packages/iris/cube.py:3218: UserWarning: Collapsing spatial coordinate 'latitude' without weighting\n",
      "  warnings.warn(msg.format(coord.name()))\n",
      "/opt/scitools/environments/default/2020_10_12/lib/python3.6/site-packages/iris/coords.py:1410: UserWarning: Collapsing a non-contiguous coordinate. Metadata may not be fully descriptive for 'latitude'.\n",
      "  warnings.warn(msg.format(self.name()))\n"
     ]
    }
   ],
   "source": [
    "area_ts = precip_cube_filt.intersection(longitude=(100, 105), latitude=(5,10))\n",
    "area_ts = area_ts.collapsed( ('latitude', 'longitude'), iris.analysis.MEAN)"
   ]
  },
  {
   "cell_type": "code",
   "execution_count": 420,
   "metadata": {},
   "outputs": [],
   "source": [
    "#qplt.plot(area_ts)\n",
    "ts_std = (area_ts.data - np.ma.mean(area_ts.data))/np.ma.std(area_ts.data)\n",
    "\n",
    "# Find peaks above 1 stdev\n",
    "peaks, _ = find_peaks(ts_std, height=1.)"
   ]
  },
  {
   "cell_type": "code",
   "execution_count": 421,
   "metadata": {},
   "outputs": [
    {
     "data": {
      "text/plain": [
       "(Int64Index([ 149,  177,  210,  303,  503,  574,  604,  660,  884,  960, 1034,\n",
       "             1267, 1311, 1367, 1587, 1956, 2117, 2352, 2399, 2467, 2689, 2807,\n",
       "             2851, 3061, 3407, 3458, 3548, 3581, 3813, 3860, 3904, 3947, 4162,\n",
       "             4215, 4258, 4295, 4521, 4551, 4587, 4630, 4662, 4908, 4982, 5045,\n",
       "             5299, 5407],\n",
       "            dtype='int64'),\n",
       " Int64Index([ 120,  121,  122,  123,  124,  125,  126,  127,  128,  129,\n",
       "             ...\n",
       "             5408, 5409, 5410, 5411, 5412, 5413, 5414, 5415, 5416, 5417],\n",
       "            dtype='int64', length=2760))"
      ]
     },
     "execution_count": 421,
     "metadata": {},
     "output_type": "execute_result"
    }
   ],
   "source": [
    "# all summer seasons\n",
    "season_df = cube_dates_df.loc[(cube_dates_df['month'].isin([5,6,7,8, 9, 10]))]\n",
    "\n",
    "# select peaks in summer alone\n",
    "peaks_df = cube_dates_df.loc[peaks]\n",
    "peaks_df = peaks_df.loc[(peaks_df['month'].isin([5,6,7,8, 9,10]))]\n",
    "peaks_df.index, season_df.index\n",
    "#peaks_inds"
   ]
  },
  {
   "cell_type": "code",
   "execution_count": 422,
   "metadata": {},
   "outputs": [],
   "source": []
  },
  {
   "cell_type": "code",
   "execution_count": 423,
   "metadata": {},
   "outputs": [],
   "source": [
    "precip_comp = make_composite(precip_cube, peaks_df.index, lag=25)\n",
    "precip_comp_filt = make_composite(precip_cube_filt, peaks_df.index, lag=25)"
   ]
  },
  {
   "cell_type": "code",
   "execution_count": 424,
   "metadata": {},
   "outputs": [],
   "source": [
    "#precip_cube"
   ]
  },
  {
   "cell_type": "code",
   "execution_count": 425,
   "metadata": {},
   "outputs": [],
   "source": [
    "cube_hov = precip_comp.intersection(longitude=(95, 110), latitude=(-10,25)).collapsed('longitude', iris.analysis.MEAN)\n",
    "cube_hov_f = precip_comp_filt.intersection(longitude=(95, 110), latitude=(-10,25)).collapsed('longitude', iris.analysis.MEAN)"
   ]
  },
  {
   "cell_type": "code",
   "execution_count": 426,
   "metadata": {},
   "outputs": [
    {
     "data": {
      "text/plain": [
       "<matplotlib.contour.QuadContourSet at 0x7fa01545c630>"
      ]
     },
     "execution_count": 426,
     "metadata": {},
     "output_type": "execute_result"
    },
    {
     "data": {
      "image/png": "[encoded data removed]",
      "text/plain": [
       "<Figure size 432x288 with 2 Axes>"
      ]
     },
     "metadata": {
      "needs_background": "light"
     },
     "output_type": "display_data"
    }
   ],
   "source": [
    "qplt.contourf(cube_hov, levels=np.linspace(0, 20, 11), cmap='YlGnBu')\n",
    "qplt.contour(cube_hov_f, levels=np.linspace(-5, 5, 11), cmap='RdBu')"
   ]
  },
  {
   "cell_type": "code",
   "execution_count": 226,
   "metadata": {},
   "outputs": [
    {
     "data": {
      "text/plain": [
       "<cartopy.mpl.feature_artist.FeatureArtist at 0x7fa08e9e5be0>"
      ]
     },
     "execution_count": 226,
     "metadata": {},
     "output_type": "execute_result"
    }
   ],
   "source": [
    "qplt.contourf(precip_comp_filt[30], levels=np.linspace(-5, 5, 11), cmap='RdBu', extend='both')\n",
    "plt.gca().coastlines()"
   ]
  },
  {
   "cell_type": "code",
   "execution_count": 339,
   "metadata": {},
   "outputs": [],
   "source": []
  },
  {
   "cell_type": "code",
   "execution_count": 340,
   "metadata": {},
   "outputs": [
    {
     "name": "stderr",
     "output_type": "stream",
     "text": [
      "/opt/scitools/environments/default/2020_10_12/lib/python3.6/site-packages/iris/coords.py:1410: UserWarning: Collapsing a non-contiguous coordinate. Metadata may not be fully descriptive for 'time'.\n",
      "  warnings.warn(msg.format(self.name()))\n",
      "/opt/scitools/environments/default/2020_10_12/lib/python3.6/site-packages/iris/coords.py:1410: UserWarning: Collapsing a non-contiguous coordinate. Metadata may not be fully descriptive for 'day_of_month'.\n",
      "  warnings.warn(msg.format(self.name()))\n",
      "/opt/scitools/environments/default/2020_10_12/lib/python3.6/site-packages/iris/coords.py:1410: UserWarning: Collapsing a non-contiguous coordinate. Metadata may not be fully descriptive for 'month_number'.\n",
      "  warnings.warn(msg.format(self.name()))\n",
      "/opt/scitools/environments/default/2020_10_12/lib/python3.6/site-packages/iris/coords.py:1410: UserWarning: Collapsing a non-contiguous coordinate. Metadata may not be fully descriptive for 'year'.\n",
      "  warnings.warn(msg.format(self.name()))\n"
     ]
    }
   ],
   "source": [
    "precip_summer_perc = compute_percentiles(precip_cube, season_inds.index, percent=[90])"
   ]
  },
  {
   "cell_type": "code",
   "execution_count": 264,
   "metadata": {},
   "outputs": [
    {
     "name": "stderr",
     "output_type": "stream",
     "text": [
      "/opt/scitools/environments/default/2020_10_12/lib/python3.6/site-packages/iris/coords.py:1410: UserWarning: Collapsing a non-contiguous coordinate. Metadata may not be fully descriptive for 'time'.\n",
      "  warnings.warn(msg.format(self.name()))\n",
      "/opt/scitools/environments/default/2020_10_12/lib/python3.6/site-packages/iris/coords.py:1410: UserWarning: Collapsing a non-contiguous coordinate. Metadata may not be fully descriptive for 'day_of_month'.\n",
      "  warnings.warn(msg.format(self.name()))\n",
      "/opt/scitools/environments/default/2020_10_12/lib/python3.6/site-packages/iris/coords.py:1410: UserWarning: Collapsing a non-contiguous coordinate. Metadata may not be fully descriptive for 'month_number'.\n",
      "  warnings.warn(msg.format(self.name()))\n",
      "/opt/scitools/environments/default/2020_10_12/lib/python3.6/site-packages/iris/coords.py:1410: UserWarning: Collapsing a non-contiguous coordinate. Metadata may not be fully descriptive for 'year'.\n",
      "  warnings.warn(msg.format(self.name()))\n"
     ]
    }
   ],
   "source": [
    "precip_iso_perc = compute_percentiles(precip_cube, peaks_inds.index-10, percent=[90])"
   ]
  },
  {
   "cell_type": "code",
   "execution_count": 265,
   "metadata": {},
   "outputs": [
    {
     "data": {
      "text/plain": [
       "<cartopy.mpl.feature_artist.FeatureArtist at 0x7fa06d43f278>"
      ]
     },
     "execution_count": 265,
     "metadata": {},
     "output_type": "execute_result"
    }
   ],
   "source": [
    "#qplt.contourf(precip_summer_perc95, levels=np.linspace(0, 30, 11), cmap='YlGnBu', extend='both')\n",
    "qplt.contourf( 100.*(precip_iso_perc-precip_summer_perc)/precip_summer_perc, \n",
    "              levels=np.linspace(-100, 100, 11), cmap='RdBu', extend='both')\n",
    "plt.gca().coastlines()"
   ]
  },
  {
   "cell_type": "markdown",
   "metadata": {},
   "source": [
    "# Compute precip PDF for each country/region"
   ]
  },
  {
   "cell_type": "code",
   "execution_count": 250,
   "metadata": {},
   "outputs": [],
   "source": [
    "#season_inds"
   ]
  },
  {
   "cell_type": "code",
   "execution_count": 354,
   "metadata": {},
   "outputs": [],
   "source": [
    "def compute_percentiles(cube, indices, region=[(1.3,6.7),(100., 104.5)], percentiles=[5,25,50,75,95]):\n",
    "    reg_data = cube[indices].intersection(latitude=region[0], longitude=region[1])\n",
    "    return np.percentile(reg_data.data.ravel(),percentiles)"
   ]
  },
  {
   "cell_type": "code",
   "execution_count": 385,
   "metadata": {},
   "outputs": [],
   "source": [
    "from sklearn.neighbors import KernelDensity\n",
    "def compute_pdf(cube, indices, region=[(1.3,6.7),(100., 104.5)], bins=np.arange(0,200,10)):\n",
    "    reg_data = cube[indices].intersection(latitude=region[0], longitude=region[1])\n",
    "    # Plot the data using a normalized histogram\n",
    "    hist, bin_edges = np.histogram(reg_data.data, bins=bins, density=True)\n",
    "    plt.plot(bin_edges[1:], hist)"
   ]
  },
  {
   "cell_type": "code",
   "execution_count": 398,
   "metadata": {},
   "outputs": [
    {
     "data": {
      "text/plain": [
       "<BarContainer object of 39 artists>"
      ]
     },
     "execution_count": 398,
     "metadata": {},
     "output_type": "execute_result"
    }
   ],
   "source": [
    "from scipy import stats\n",
    "pen_malaysia = [(1.3,6.7),(100., 104.5)]\n",
    "reg_data = precip_cube[season_inds.index].intersection(latitude=pen_malaysia[0], longitude=pen_malaysia[1])\n",
    "bins=np.arange(0,200,5)\n",
    "hist, bin_edges = np.histogram(reg_data.data, bins=bins, density=True)\n",
    "\n",
    "# Do kernel density estimation\n",
    "#kd = KernelDensity(kernel='gaussian', bandwidth=0.75).fit(reg_data.data)\n",
    "#compute_pdf(precip_cube, season_inds.index, region=pen_malaysia)"
   ]
  },
  {
   "cell_type": "code",
   "execution_count": 407,
   "metadata": {},
   "outputs": [
    {
     "data": {
      "text/plain": [
       "[<matplotlib.lines.Line2D at 0x7fa015b76828>]"
      ]
     },
     "execution_count": 407,
     "metadata": {},
     "output_type": "execute_result"
    }
   ],
   "source": [
    "data_mean = reg_data.data.mean()\n",
    "data_std = reg_data.data.std()\n",
    "distlognormal = stats.pearson3.pdf(bins, skew=3, loc=data_mean, scale=data_std)\n",
    "distlognormal.shape\n",
    "plt.plot(bin_edges[:-1], hist)\n",
    "plt.plot(bin_edges, distlognormal)"
   ]
  },
  {
   "cell_type": "code",
   "execution_count": 249,
   "metadata": {},
   "outputs": [
    {
     "ename": "NameError",
     "evalue": "name 'compute_percentiles' is not defined",
     "output_type": "error",
     "traceback": [
      "\u001b[0;31m---------------------------------------------------------------------------\u001b[0m",
      "\u001b[0;31mNameError\u001b[0m                                 Traceback (most recent call last)",
      "\u001b[0;32m<ipython-input-249-3bd5276bb0f8>\u001b[0m in \u001b[0;36m<module>\u001b[0;34m\u001b[0m\n\u001b[0;32m----> 1\u001b[0;31m \u001b[0mpen_malaysia_season\u001b[0m \u001b[0;34m=\u001b[0m \u001b[0mcompute_percentiles\u001b[0m\u001b[0;34m(\u001b[0m\u001b[0mprecip_cube\u001b[0m\u001b[0;34m,\u001b[0m \u001b[0mseason_inds\u001b[0m\u001b[0;34m.\u001b[0m\u001b[0mindex\u001b[0m\u001b[0;34m,\u001b[0m \u001b[0mregion\u001b[0m\u001b[0;34m=\u001b[0m\u001b[0mpen_malaysia\u001b[0m\u001b[0;34m,\u001b[0m \u001b[0mpercentiles\u001b[0m\u001b[0;34m=\u001b[0m\u001b[0;34m[\u001b[0m\u001b[0;36m5\u001b[0m\u001b[0;34m,\u001b[0m\u001b[0;36m25\u001b[0m\u001b[0;34m,\u001b[0m\u001b[0;36m50\u001b[0m\u001b[0;34m,\u001b[0m\u001b[0;36m75\u001b[0m\u001b[0;34m,\u001b[0m\u001b[0;36m95\u001b[0m\u001b[0;34m,\u001b[0m \u001b[0;36m99\u001b[0m\u001b[0;34m]\u001b[0m\u001b[0;34m)\u001b[0m\u001b[0;34m\u001b[0m\u001b[0;34m\u001b[0m\u001b[0m\n\u001b[0m\u001b[1;32m      2\u001b[0m \u001b[0mpen_malaysia_active\u001b[0m \u001b[0;34m=\u001b[0m \u001b[0mcompute_percentiles\u001b[0m\u001b[0;34m(\u001b[0m\u001b[0mprecip_cube\u001b[0m\u001b[0;34m,\u001b[0m \u001b[0mpeaks_inds\u001b[0m\u001b[0;34m.\u001b[0m\u001b[0mindex\u001b[0m\u001b[0;34m,\u001b[0m \u001b[0mregion\u001b[0m\u001b[0;34m=\u001b[0m\u001b[0mpen_malaysia\u001b[0m\u001b[0;34m,\u001b[0m \u001b[0mpercentiles\u001b[0m\u001b[0;34m=\u001b[0m\u001b[0;34m[\u001b[0m\u001b[0;36m5\u001b[0m\u001b[0;34m,\u001b[0m\u001b[0;36m25\u001b[0m\u001b[0;34m,\u001b[0m\u001b[0;36m50\u001b[0m\u001b[0;34m,\u001b[0m\u001b[0;36m75\u001b[0m\u001b[0;34m,\u001b[0m\u001b[0;36m95\u001b[0m\u001b[0;34m,\u001b[0m \u001b[0;36m99\u001b[0m\u001b[0;34m]\u001b[0m\u001b[0;34m)\u001b[0m\u001b[0;34m\u001b[0m\u001b[0;34m\u001b[0m\u001b[0m\n\u001b[1;32m      3\u001b[0m \u001b[0mpen_malaysia_break\u001b[0m \u001b[0;34m=\u001b[0m \u001b[0mcompute_percentiles\u001b[0m\u001b[0;34m(\u001b[0m\u001b[0mprecip_cube\u001b[0m\u001b[0;34m,\u001b[0m \u001b[0mpeaks_inds\u001b[0m\u001b[0;34m.\u001b[0m\u001b[0mindex\u001b[0m\u001b[0;34m+\u001b[0m\u001b[0;36m12\u001b[0m\u001b[0;34m,\u001b[0m \u001b[0mregion\u001b[0m\u001b[0;34m=\u001b[0m\u001b[0mpen_malaysia\u001b[0m\u001b[0;34m,\u001b[0m \u001b[0mpercentiles\u001b[0m\u001b[0;34m=\u001b[0m\u001b[0;34m[\u001b[0m\u001b[0;36m5\u001b[0m\u001b[0;34m,\u001b[0m\u001b[0;36m25\u001b[0m\u001b[0;34m,\u001b[0m\u001b[0;36m50\u001b[0m\u001b[0;34m,\u001b[0m\u001b[0;36m75\u001b[0m\u001b[0;34m,\u001b[0m\u001b[0;36m95\u001b[0m\u001b[0;34m,\u001b[0m \u001b[0;36m99\u001b[0m\u001b[0;34m]\u001b[0m\u001b[0;34m)\u001b[0m\u001b[0;34m\u001b[0m\u001b[0;34m\u001b[0m\u001b[0m\n",
      "\u001b[0;31mNameError\u001b[0m: name 'compute_percentiles' is not defined"
     ]
    }
   ],
   "source": [
    "pen_malaysia_season = compute_percentiles(precip_cube, season_inds.index, region=pen_malaysia, percentiles=[5,25,50,75,95, 99])\n",
    "pen_malaysia_active = compute_percentiles(precip_cube, peaks_inds.index, region=pen_malaysia, percentiles=[5,25,50,75,95, 99])\n",
    "pen_malaysia_break = compute_percentiles(precip_cube, peaks_inds.index+12, region=pen_malaysia, percentiles=[5,25,50,75,95, 99])"
   ]
  },
  {
   "cell_type": "code",
   "execution_count": 374,
   "metadata": {},
   "outputs": [
    {
     "data": {
      "text/plain": [
       "[<matplotlib.lines.Line2D at 0x7fa017e6c7f0>]"
      ]
     },
     "execution_count": 374,
     "metadata": {},
     "output_type": "execute_result"
    }
   ],
   "source": [
    "plt.plot([5,25,50,75,95, 99], pen_malaysia_season, 'black')\n",
    "plt.plot([5,25,50,75,95, 99], pen_malaysia_active, 'red')\n",
    "#plt.plot([5,25,50,75,95, 99], 100.*(pen_malaysia_active - pen_malaysia_season)/pen_malaysia_season )\n",
    "#plt.plot([5,25,50,75,95, 99], 100.*(pen_malaysia_break - pen_malaysia_season)/pen_malaysia_season )\n",
    "#plt.plot(pen_malaysia_break)"
   ]
  },
  {
   "cell_type": "code",
   "execution_count": 268,
   "metadata": {},
   "outputs": [],
   "source": [
    "import cartopy.io.shapereader as shpreader\n",
    "from cartopy.mpl.patch import geos_to_path\n",
    "from shapely.geometry import Point"
   ]
  },
  {
   "cell_type": "code",
   "execution_count": null,
   "metadata": {},
   "outputs": [],
   "source": []
  },
  {
   "cell_type": "code",
   "execution_count": 297,
   "metadata": {},
   "outputs": [],
   "source": [
    "shpfilename = shpreader.natural_earth(resolution='110m',\n",
    "                                      category='cultural',\n",
    "                                      name='admin_0_countries')\n",
    "reader = shpreader.Reader(shpfilename)\n",
    "countries = reader.records()"
   ]
  },
  {
   "cell_type": "code",
   "execution_count": 294,
   "metadata": {},
   "outputs": [
    {
     "data": {
      "text/plain": [
       "[<shapely.geometry.multipolygon.MultiPolygon at 0x7fa019add2e8>]"
      ]
     },
     "execution_count": 294,
     "metadata": {},
     "output_type": "execute_result"
    }
   ],
   "source": [
    "[country.geometry for country in countries if country.attributes['ADMIN'] == 'Malaysia']\n",
    "#us_multipoly, = [country.geometry for country in countries if country.attributes['name'] == 'United States']\n",
    "#main_us_geom = sorted(us_multipoly.geoms, key=lambda geom: geom.area)[-1]"
   ]
  },
  {
   "cell_type": "code",
   "execution_count": null,
   "metadata": {},
   "outputs": [],
   "source": []
  },
  {
   "cell_type": "code",
   "execution_count": 209,
   "metadata": {},
   "outputs": [
    {
     "data": {
      "text/plain": [
       "<matplotlib.contour.QuadContourSet at 0x7f557ac5f6d8>"
      ]
     },
     "execution_count": 209,
     "metadata": {},
     "output_type": "execute_result"
    }
   ],
   "source": [
    "qplt.contourf(ndjf_mjo_perc)"
   ]
  },
  {
   "cell_type": "code",
   "execution_count": null,
   "metadata": {},
   "outputs": [],
   "source": []
  },
  {
   "cell_type": "code",
   "execution_count": 147,
   "metadata": {},
   "outputs": [
    {
     "data": {
      "text/plain": [
       "<cartopy.mpl.feature_artist.FeatureArtist at 0x7f5549b9f2b0>"
      ]
     },
     "execution_count": 147,
     "metadata": {},
     "output_type": "execute_result"
    }
   ],
   "source": []
  },
  {
   "cell_type": "code",
   "execution_count": 16,
   "metadata": {},
   "outputs": [
    {
     "ename": "NameError",
     "evalue": "name 'ndjf_perc' is not defined",
     "output_type": "error",
     "traceback": [
      "\u001b[0;31m---------------------------------------------------------------------------\u001b[0m",
      "\u001b[0;31mNameError\u001b[0m                                 Traceback (most recent call last)",
      "\u001b[0;32m<ipython-input-16-ad9a422546b7>\u001b[0m in \u001b[0;36m<module>\u001b[0;34m\u001b[0m\n\u001b[1;32m      1\u001b[0m \u001b[0mplt\u001b[0m\u001b[0;34m.\u001b[0m\u001b[0mfigure\u001b[0m\u001b[0;34m(\u001b[0m\u001b[0;36m1\u001b[0m\u001b[0;34m)\u001b[0m\u001b[0;34m\u001b[0m\u001b[0;34m\u001b[0m\u001b[0m\n\u001b[0;32m----> 2\u001b[0;31m \u001b[0mqplt\u001b[0m\u001b[0;34m.\u001b[0m\u001b[0mcontourf\u001b[0m\u001b[0;34m(\u001b[0m\u001b[0mndjf_perc\u001b[0m\u001b[0;34m,\u001b[0m \u001b[0mlevels\u001b[0m\u001b[0;34m=\u001b[0m\u001b[0mnp\u001b[0m\u001b[0;34m.\u001b[0m\u001b[0marange\u001b[0m\u001b[0;34m(\u001b[0m\u001b[0;36m10\u001b[0m\u001b[0;34m,\u001b[0m \u001b[0;36m80\u001b[0m\u001b[0;34m,\u001b[0m \u001b[0;36m10\u001b[0m\u001b[0;34m)\u001b[0m\u001b[0;34m,\u001b[0m \u001b[0mcmap\u001b[0m\u001b[0;34m=\u001b[0m\u001b[0;34m'GnBu'\u001b[0m\u001b[0;34m,\u001b[0m \u001b[0mextend\u001b[0m\u001b[0;34m=\u001b[0m\u001b[0;34m'max'\u001b[0m\u001b[0;34m)\u001b[0m\u001b[0;34m\u001b[0m\u001b[0;34m\u001b[0m\u001b[0m\n\u001b[0m\u001b[1;32m      3\u001b[0m \u001b[0mplt\u001b[0m\u001b[0;34m.\u001b[0m\u001b[0mgca\u001b[0m\u001b[0;34m(\u001b[0m\u001b[0;34m)\u001b[0m\u001b[0;34m.\u001b[0m\u001b[0mcoastlines\u001b[0m\u001b[0;34m(\u001b[0m\u001b[0;34m)\u001b[0m\u001b[0;34m\u001b[0m\u001b[0;34m\u001b[0m\u001b[0m\n\u001b[1;32m      4\u001b[0m \u001b[0mplt\u001b[0m\u001b[0;34m.\u001b[0m\u001b[0mtitle\u001b[0m\u001b[0;34m(\u001b[0m\u001b[0;34m'Obs NDJF 95th percentile'\u001b[0m\u001b[0;34m)\u001b[0m\u001b[0;34m\u001b[0m\u001b[0;34m\u001b[0m\u001b[0m\n\u001b[1;32m      5\u001b[0m \u001b[0;34m\u001b[0m\u001b[0m\n",
      "\u001b[0;31mNameError\u001b[0m: name 'ndjf_perc' is not defined"
     ]
    }
   ],
   "source": [
    "plt.figure(1)\n",
    "qplt.contourf(ndjf_perc, levels=np.arange(10, 80, 10), cmap='GnBu', extend='max')\n",
    "plt.gca().coastlines()\n",
    "plt.title('Obs NDJF 95th percentile')\n",
    "\n",
    "plt.figure(2)\n",
    "qplt.contourf(cs_perc, levels=np.arange(10, 80, 10), cmap='GnBu', extend='max')\n",
    "plt.gca().coastlines()\n",
    "plt.title('Obs CS 95th percentile')\n",
    "\n",
    "\n",
    "plt.figure(3)\n",
    "qplt.contourf(ces_perc, levels=np.arange(10, 80, 10), cmap='GnBu', extend='max')\n",
    "plt.gca().coastlines()\n",
    "plt.title('Obs CES 95th percentile')\n"
   ]
  },
  {
   "cell_type": "code",
   "execution_count": 162,
   "metadata": {},
   "outputs": [
    {
     "data": {
      "text/plain": [
       "Text(0.5, 1.0, 'Obs % CS change 95th percentile precip')"
      ]
     },
     "execution_count": 162,
     "metadata": {},
     "output_type": "execute_result"
    }
   ],
   "source": [
    "plt.figure(4)\n",
    "qplt.contourf(100*cs_perc/ndjf_perc, levels=np.arange(-200, 200, 20), cmap=\"RdBu_r\", extend='both')\n",
    "plt.gca().coastlines()\n",
    "plt.title('Obs % CS change 95th percentile precip')"
   ]
  },
  {
   "cell_type": "code",
   "execution_count": 163,
   "metadata": {},
   "outputs": [
    {
     "data": {
      "text/plain": [
       "Text(0.5, 1.0, 'Obs % CES change 95th percentile precip')"
      ]
     },
     "execution_count": 163,
     "metadata": {},
     "output_type": "execute_result"
    }
   ],
   "source": [
    "plt.figure(5)\n",
    "qplt.contourf(100*ces_perc/ndjf_perc, levels=np.arange(-200, 200, 20), cmap=\"RdBu_r\", extend='both')\n",
    "plt.gca().coastlines()\n",
    "plt.title('Obs % CES change 95th percentile precip')"
   ]
  },
  {
   "cell_type": "code",
   "execution_count": 96,
   "metadata": {},
   "outputs": [
    {
     "name": "stderr",
     "output_type": "stream",
     "text": [
      "/opt/scitools/environments/default/2020_10_12/lib/python3.6/site-packages/iris/coords.py:1410: UserWarning: Collapsing a non-contiguous coordinate. Metadata may not be fully descriptive for 'time'.\n",
      "  warnings.warn(msg.format(self.name()))\n",
      "/opt/scitools/environments/default/2020_10_12/lib/python3.6/site-packages/iris/coords.py:1410: UserWarning: Collapsing a non-contiguous coordinate. Metadata may not be fully descriptive for 'day_of_month'.\n",
      "  warnings.warn(msg.format(self.name()))\n",
      "/opt/scitools/environments/default/2020_10_12/lib/python3.6/site-packages/iris/coords.py:1410: UserWarning: Collapsing a non-contiguous coordinate. Metadata may not be fully descriptive for 'month_number'.\n",
      "  warnings.warn(msg.format(self.name()))\n",
      "/opt/scitools/environments/default/2020_10_12/lib/python3.6/site-packages/iris/coords.py:1410: UserWarning: Collapsing a non-contiguous coordinate. Metadata may not be fully descriptive for 'year'.\n",
      "  warnings.warn(msg.format(self.name()))\n"
     ]
    }
   ],
   "source": []
  },
  {
   "cell_type": "code",
   "execution_count": 256,
   "metadata": {},
   "outputs": [],
   "source": [
    "cube = u850_comp"
   ]
  },
  {
   "cell_type": "code",
   "execution_count": 257,
   "metadata": {},
   "outputs": [],
   "source": [
    "axisname='longitude'\n",
    "coord_names = np.array([c.var_name for c in cube.coords()])\n",
    "R = 6378388.  # Radius of the earth\n",
    "deg2rad = 0.0174533  # pi/180.\n",
    "dcube = cube.copy()\n",
    "lats = cube.coord('latitude').points\n",
    "lons = cube.coord('longitude').points\n"
   ]
  },
  {
   "cell_type": "code",
   "execution_count": 284,
   "metadata": {},
   "outputs": [],
   "source": [
    "axis_index = np.where(coord_names == 'latitude')[0][0]\n",
    "dlon = (lons[1] - lons[0]) * deg2rad  # convert to radians\n",
    "dx = np.array([R * np.cos(deg2rad * lat) * dlon for lat in lats])\n",
    "\n",
    "dxcube = iris.util.broadcast_to_shape(dx, dcube.shape, (axis_index,))"
   ]
  },
  {
   "cell_type": "code",
   "execution_count": 288,
   "metadata": {},
   "outputs": [
    {
     "name": "stdout",
     "output_type": "stream",
     "text": [
      "(51, 141, 161) (141,) (141, 161)\n"
     ]
    },
    {
     "data": {
      "text/plain": [
       "<matplotlib.colorbar.Colorbar at 0x7fccd72a2b70>"
      ]
     },
     "execution_count": 288,
     "metadata": {},
     "output_type": "execute_result"
    }
   ],
   "source": [
    "\n",
    "La, Lo = np.meshgrid(lons, lats)\n",
    "print(cube.shape, dx.shape, La.shape)\n",
    "plt.pcolormesh(La,Lo, dxcube[0])\n",
    "plt.colorbar()"
   ]
  },
  {
   "cell_type": "code",
   "execution_count": 106,
   "metadata": {},
   "outputs": [],
   "source": [
    "rmmfile='/project/MJO_GCSS/hadgem3/data/MJOPy_output/u-bw062/RMMs_u-bw062.txt'\n",
    "df = pd.read_csv(rmmfile, sep=' ', names=['year', 'month', 'day', 'rmm1', 'rmm2', 'phase', 'amp'])"
   ]
  },
  {
   "cell_type": "code",
   "execution_count": 115,
   "metadata": {},
   "outputs": [],
   "source": [
    "#df['date'] = [datetime.datetime(y, m, d) for y, m, d in zip(df.year, df.month, df.day)]\n",
    "#str(date.year), str('%02d' % date.month), str('%02d' % date.day)\n",
    "date_strings = ['%s%s%s' %(str(y), str('%02d' % m), str('%02d' % d)) for y, m, d in zip(df.year, df.month, df.day)]"
   ]
  },
  {
   "cell_type": "code",
   "execution_count": 116,
   "metadata": {},
   "outputs": [],
   "source": [
    "df['date'] = pd.DataFrame(pd.to_datetime(dates_trings, format='%Y%m%d', errors='coerce'))"
   ]
  },
  {
   "cell_type": "code",
   "execution_count": 118,
   "metadata": {},
   "outputs": [
    {
     "data": {
      "text/html": [
       "<div>\n",
       "<style scoped>\n",
       "    .dataframe tbody tr th:only-of-type {\n",
       "        vertical-align: middle;\n",
       "    }\n",
       "\n",
       "    .dataframe tbody tr th {\n",
       "        vertical-align: top;\n",
       "    }\n",
       "\n",
       "    .dataframe thead th {\n",
       "        text-align: right;\n",
       "    }\n",
       "</style>\n",
       "<table border=\"1\" class=\"dataframe\">\n",
       "  <thead>\n",
       "    <tr style=\"text-align: right;\">\n",
       "      <th></th>\n",
       "      <th>year</th>\n",
       "      <th>month</th>\n",
       "      <th>day</th>\n",
       "      <th>rmm1</th>\n",
       "      <th>rmm2</th>\n",
       "      <th>phase</th>\n",
       "      <th>amp</th>\n",
       "      <th>date</th>\n",
       "    </tr>\n",
       "  </thead>\n",
       "  <tbody>\n",
       "    <tr>\n",
       "      <th>0</th>\n",
       "      <td>1988</td>\n",
       "      <td>9</td>\n",
       "      <td>1</td>\n",
       "      <td>-999.0</td>\n",
       "      <td>-999.0</td>\n",
       "      <td>-999</td>\n",
       "      <td>-999.0</td>\n",
       "      <td>1988-09-01</td>\n",
       "    </tr>\n",
       "    <tr>\n",
       "      <th>1</th>\n",
       "      <td>1988</td>\n",
       "      <td>9</td>\n",
       "      <td>2</td>\n",
       "      <td>-999.0</td>\n",
       "      <td>-999.0</td>\n",
       "      <td>-999</td>\n",
       "      <td>-999.0</td>\n",
       "      <td>1988-09-02</td>\n",
       "    </tr>\n",
       "    <tr>\n",
       "      <th>2</th>\n",
       "      <td>1988</td>\n",
       "      <td>9</td>\n",
       "      <td>3</td>\n",
       "      <td>-999.0</td>\n",
       "      <td>-999.0</td>\n",
       "      <td>-999</td>\n",
       "      <td>-999.0</td>\n",
       "      <td>1988-09-03</td>\n",
       "    </tr>\n",
       "    <tr>\n",
       "      <th>3</th>\n",
       "      <td>1988</td>\n",
       "      <td>9</td>\n",
       "      <td>4</td>\n",
       "      <td>-999.0</td>\n",
       "      <td>-999.0</td>\n",
       "      <td>-999</td>\n",
       "      <td>-999.0</td>\n",
       "      <td>1988-09-04</td>\n",
       "    </tr>\n",
       "    <tr>\n",
       "      <th>4</th>\n",
       "      <td>1988</td>\n",
       "      <td>9</td>\n",
       "      <td>5</td>\n",
       "      <td>-999.0</td>\n",
       "      <td>-999.0</td>\n",
       "      <td>-999</td>\n",
       "      <td>-999.0</td>\n",
       "      <td>1988-09-05</td>\n",
       "    </tr>\n",
       "    <tr>\n",
       "      <th>...</th>\n",
       "      <td>...</td>\n",
       "      <td>...</td>\n",
       "      <td>...</td>\n",
       "      <td>...</td>\n",
       "      <td>...</td>\n",
       "      <td>...</td>\n",
       "      <td>...</td>\n",
       "      <td>...</td>\n",
       "    </tr>\n",
       "    <tr>\n",
       "      <th>7285</th>\n",
       "      <td>2008</td>\n",
       "      <td>11</td>\n",
       "      <td>26</td>\n",
       "      <td>-999.0</td>\n",
       "      <td>-999.0</td>\n",
       "      <td>-999</td>\n",
       "      <td>-999.0</td>\n",
       "      <td>2008-11-26</td>\n",
       "    </tr>\n",
       "    <tr>\n",
       "      <th>7286</th>\n",
       "      <td>2008</td>\n",
       "      <td>11</td>\n",
       "      <td>27</td>\n",
       "      <td>-999.0</td>\n",
       "      <td>-999.0</td>\n",
       "      <td>-999</td>\n",
       "      <td>-999.0</td>\n",
       "      <td>2008-11-27</td>\n",
       "    </tr>\n",
       "    <tr>\n",
       "      <th>7287</th>\n",
       "      <td>2008</td>\n",
       "      <td>11</td>\n",
       "      <td>28</td>\n",
       "      <td>-999.0</td>\n",
       "      <td>-999.0</td>\n",
       "      <td>-999</td>\n",
       "      <td>-999.0</td>\n",
       "      <td>2008-11-28</td>\n",
       "    </tr>\n",
       "    <tr>\n",
       "      <th>7288</th>\n",
       "      <td>2008</td>\n",
       "      <td>11</td>\n",
       "      <td>29</td>\n",
       "      <td>-999.0</td>\n",
       "      <td>-999.0</td>\n",
       "      <td>-999</td>\n",
       "      <td>-999.0</td>\n",
       "      <td>2008-11-29</td>\n",
       "    </tr>\n",
       "    <tr>\n",
       "      <th>7289</th>\n",
       "      <td>2008</td>\n",
       "      <td>11</td>\n",
       "      <td>30</td>\n",
       "      <td>-999.0</td>\n",
       "      <td>-999.0</td>\n",
       "      <td>-999</td>\n",
       "      <td>-999.0</td>\n",
       "      <td>2008-11-30</td>\n",
       "    </tr>\n",
       "  </tbody>\n",
       "</table>\n",
       "<p>7290 rows × 8 columns</p>\n",
       "</div>"
      ],
      "text/plain": [
       "      year  month  day   rmm1   rmm2  phase    amp       date\n",
       "0     1988      9    1 -999.0 -999.0   -999 -999.0 1988-09-01\n",
       "1     1988      9    2 -999.0 -999.0   -999 -999.0 1988-09-02\n",
       "2     1988      9    3 -999.0 -999.0   -999 -999.0 1988-09-03\n",
       "3     1988      9    4 -999.0 -999.0   -999 -999.0 1988-09-04\n",
       "4     1988      9    5 -999.0 -999.0   -999 -999.0 1988-09-05\n",
       "...    ...    ...  ...    ...    ...    ...    ...        ...\n",
       "7285  2008     11   26 -999.0 -999.0   -999 -999.0 2008-11-26\n",
       "7286  2008     11   27 -999.0 -999.0   -999 -999.0 2008-11-27\n",
       "7287  2008     11   28 -999.0 -999.0   -999 -999.0 2008-11-28\n",
       "7288  2008     11   29 -999.0 -999.0   -999 -999.0 2008-11-29\n",
       "7289  2008     11   30 -999.0 -999.0   -999 -999.0 2008-11-30\n",
       "\n",
       "[7290 rows x 8 columns]"
      ]
     },
     "execution_count": 118,
     "metadata": {},
     "output_type": "execute_result"
    }
   ],
   "source": [
    "df"
   ]
  },
  {
   "cell_type": "code",
   "execution_count": 119,
   "metadata": {},
   "outputs": [],
   "source": [
    "cube = iris.load_cube('/scratch/hadpx/hadgem3/data/SEAPy/u-bw062/u-bw062_PRECIP.pp.nc')"
   ]
  },
  {
   "cell_type": "code",
   "execution_count": 121,
   "metadata": {},
   "outputs": [],
   "source": [
    "# get dates of the cube\n",
    "times = cube.coord('time')\n",
    "dtimes = times.units.num2date(times.points)"
   ]
  },
  {
   "cell_type": "code",
   "execution_count": 133,
   "metadata": {},
   "outputs": [],
   "source": [
    "dtf = pd.DataFrame(dtimes, columns=['date'])\n",
    "#dft_cubes = pd.to_datetime(dtimes, format='%Y-%m-%d')\n",
    "#dft_cubes.columns = ['dates']"
   ]
  },
  {
   "cell_type": "code",
   "execution_count": 153,
   "metadata": {},
   "outputs": [],
   "source": [
    "dtc_str = [str(dd).split()[0] for dd in dtf['date']]"
   ]
  },
  {
   "cell_type": "code",
   "execution_count": 161,
   "metadata": {},
   "outputs": [],
   "source": [
    "dtf['dates'] = pd.DataFrame(pd.to_datetime(dtc_str, format='%Y-%m-%d', errors='coerce'))"
   ]
  },
  {
   "cell_type": "code",
   "execution_count": 162,
   "metadata": {},
   "outputs": [
    {
     "data": {
      "text/html": [
       "<div>\n",
       "<style scoped>\n",
       "    .dataframe tbody tr th:only-of-type {\n",
       "        vertical-align: middle;\n",
       "    }\n",
       "\n",
       "    .dataframe tbody tr th {\n",
       "        vertical-align: top;\n",
       "    }\n",
       "\n",
       "    .dataframe thead th {\n",
       "        text-align: right;\n",
       "    }\n",
       "</style>\n",
       "<table border=\"1\" class=\"dataframe\">\n",
       "  <thead>\n",
       "    <tr style=\"text-align: right;\">\n",
       "      <th></th>\n",
       "      <th>date</th>\n",
       "      <th>dates</th>\n",
       "    </tr>\n",
       "  </thead>\n",
       "  <tbody>\n",
       "    <tr>\n",
       "      <th>0</th>\n",
       "      <td>1988-09-01 12:00:00</td>\n",
       "      <td>1988-09-01</td>\n",
       "    </tr>\n",
       "    <tr>\n",
       "      <th>1</th>\n",
       "      <td>1988-09-02 12:00:00</td>\n",
       "      <td>1988-09-02</td>\n",
       "    </tr>\n",
       "    <tr>\n",
       "      <th>2</th>\n",
       "      <td>1988-09-03 12:00:00</td>\n",
       "      <td>1988-09-03</td>\n",
       "    </tr>\n",
       "    <tr>\n",
       "      <th>3</th>\n",
       "      <td>1988-09-04 12:00:00</td>\n",
       "      <td>1988-09-04</td>\n",
       "    </tr>\n",
       "    <tr>\n",
       "      <th>4</th>\n",
       "      <td>1988-09-05 12:00:00</td>\n",
       "      <td>1988-09-05</td>\n",
       "    </tr>\n",
       "    <tr>\n",
       "      <th>...</th>\n",
       "      <td>...</td>\n",
       "      <td>...</td>\n",
       "    </tr>\n",
       "    <tr>\n",
       "      <th>7285</th>\n",
       "      <td>2008-11-26 12:00:00</td>\n",
       "      <td>2008-11-26</td>\n",
       "    </tr>\n",
       "    <tr>\n",
       "      <th>7286</th>\n",
       "      <td>2008-11-27 12:00:00</td>\n",
       "      <td>2008-11-27</td>\n",
       "    </tr>\n",
       "    <tr>\n",
       "      <th>7287</th>\n",
       "      <td>2008-11-28 12:00:00</td>\n",
       "      <td>2008-11-28</td>\n",
       "    </tr>\n",
       "    <tr>\n",
       "      <th>7288</th>\n",
       "      <td>2008-11-29 12:00:00</td>\n",
       "      <td>2008-11-29</td>\n",
       "    </tr>\n",
       "    <tr>\n",
       "      <th>7289</th>\n",
       "      <td>2008-11-30 12:00:00</td>\n",
       "      <td>2008-11-30</td>\n",
       "    </tr>\n",
       "  </tbody>\n",
       "</table>\n",
       "<p>7290 rows × 2 columns</p>\n",
       "</div>"
      ],
      "text/plain": [
       "                     date      dates\n",
       "0     1988-09-01 12:00:00 1988-09-01\n",
       "1     1988-09-02 12:00:00 1988-09-02\n",
       "2     1988-09-03 12:00:00 1988-09-03\n",
       "3     1988-09-04 12:00:00 1988-09-04\n",
       "4     1988-09-05 12:00:00 1988-09-05\n",
       "...                   ...        ...\n",
       "7285  2008-11-26 12:00:00 2008-11-26\n",
       "7286  2008-11-27 12:00:00 2008-11-27\n",
       "7287  2008-11-28 12:00:00 2008-11-28\n",
       "7288  2008-11-29 12:00:00 2008-11-29\n",
       "7289  2008-11-30 12:00:00 2008-11-30\n",
       "\n",
       "[7290 rows x 2 columns]"
      ]
     },
     "execution_count": 162,
     "metadata": {},
     "output_type": "execute_result"
    }
   ],
   "source": [
    "dtf"
   ]
  },
  {
   "cell_type": "code",
   "execution_count": null,
   "metadata": {},
   "outputs": [],
   "source": []
  }
 ],
 "metadata": {
  "kernelspec": {
   "display_name": "Python 3",
   "language": "python",
   "name": "python3"
  },
  "language_info": {
   "codemirror_mode": {
    "name": "ipython",
    "version": 3
   },
   "file_extension": ".py",
   "mimetype": "text/x-python",
   "name": "python",
   "nbconvert_exporter": "python",
   "pygments_lexer": "ipython3",
   "version": "3.6.10"
  }
 },
 "nbformat": 4,
 "nbformat_minor": 4
}
